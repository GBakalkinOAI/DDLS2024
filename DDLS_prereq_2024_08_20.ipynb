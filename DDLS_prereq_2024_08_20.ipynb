{
  "nbformat": 4,
  "nbformat_minor": 0,
  "metadata": {
    "colab": {
      "provenance": [],
      "mount_file_id": "1__q2C16aCFcECjSCGelefxJ0ey2vYjDQ",
      "authorship_tag": "ABX9TyOfBt5zGtLzwabheQvQrIh7",
      "include_colab_link": true
    },
    "kernelspec": {
      "name": "python3",
      "display_name": "Python 3"
    },
    "language_info": {
      "name": "python"
    }
  },
  "cells": [
    {
      "cell_type": "markdown",
      "metadata": {
        "id": "view-in-github",
        "colab_type": "text"
      },
      "source": [
        "<a href=\"https://colab.research.google.com/github/GBakalkinOAI/DDLS2024/blob/main/DDLS_prereq_2024_08_20.ipynb\" target=\"_parent\"><img src=\"https://colab.research.google.com/assets/colab-badge.svg\" alt=\"Open In Colab\"/></a>"
      ]
    },
    {
      "cell_type": "code",
      "execution_count": null,
      "metadata": {
        "colab": {
          "base_uri": "https://localhost:8080/"
        },
        "id": "eEcYaVotessH",
        "outputId": "0d398dc2-8586-4665-e27f-b98d6bdb4512"
      },
      "outputs": [
        {
          "output_type": "stream",
          "name": "stdout",
          "text": [
            "Hello, World!\n"
          ]
        }
      ],
      "source": [
        "print(\"Hello, World!\")"
      ]
    },
    {
      "cell_type": "code",
      "source": [
        "my_name = \"Daniil Sarkisyan\"\n",
        "my_age = 49\n",
        "my_student_status = False\n",
        "\n",
        "my_age = my_age + 5\n",
        "print(\"Welcome to Python, \" + my_name + \"!\")"
      ],
      "metadata": {
        "colab": {
          "base_uri": "https://localhost:8080/"
        },
        "id": "w3dHkXFYfYKM",
        "outputId": "1d28ee67-0d73-464f-ee2b-6c2060d53c32"
      },
      "execution_count": null,
      "outputs": [
        {
          "output_type": "stream",
          "name": "stdout",
          "text": [
            "Welcome to Python, Daniil Sarkisyan!\n"
          ]
        }
      ]
    },
    {
      "cell_type": "code",
      "source": [
        "favorite_languages = [\"R\", \"MATLAB\", \"FORTRAN\"]\n",
        "for lang in favorite_languages:\n",
        "  print(lang)"
      ],
      "metadata": {
        "colab": {
          "base_uri": "https://localhost:8080/"
        },
        "id": "MuDTzoBEh0QH",
        "outputId": "2e91fd08-432d-4328-f66c-750870d90e1a"
      },
      "execution_count": null,
      "outputs": [
        {
          "output_type": "stream",
          "name": "stdout",
          "text": [
            "R\n",
            "MATLAB\n",
            "FORTRAN\n"
          ]
        }
      ]
    },
    {
      "cell_type": "code",
      "source": [
        "def enjoy(lang):\n",
        "  return( \"I enjoy coding in \" + lang + \".\")\n",
        "\n",
        "for lang in favorite_languages:\n",
        "  print(enjoy(lang))"
      ],
      "metadata": {
        "colab": {
          "base_uri": "https://localhost:8080/"
        },
        "id": "OeFyhZHgi8CD",
        "outputId": "8c98c10f-f266-4354-fbab-c7723983d855"
      },
      "execution_count": null,
      "outputs": [
        {
          "output_type": "stream",
          "name": "stdout",
          "text": [
            "I enjoy coding in R.\n",
            "I enjoy coding in MATLAB.\n",
            "I enjoy coding in FORTRAN.\n"
          ]
        }
      ]
    },
    {
      "cell_type": "code",
      "source": [
        "import traceback\n",
        "import numpy as np\n",
        "\n",
        "class Language:\n",
        "  def __init__(self, name, created):\n",
        "    self.name = name\n",
        "\n",
        "    # Error handling for the 'created' year\n",
        "    try:\n",
        "        # Check if 'created' is an integer\n",
        "        created = int(created)\n",
        "\n",
        "        # Check if 'created' is within the allowed range\n",
        "        if 1990 <= created <= 2024:\n",
        "            self.created = created\n",
        "        else:\n",
        "            raise ValueError(f\"The year {created} is not between 1990 and 2024.\")\n",
        "\n",
        "    except ValueError:\n",
        "        traceback.print_exc()\n",
        "        self.created = np.nan\n",
        "\n",
        "  def get_info(self):\n",
        "    if np.isnan(self.created):\n",
        "        return f\"{self.name} creation year is unknown.\"\n",
        "    return f\"{self.name} was created in {self.created}.\"\n",
        "\n",
        "python = Language(\"Python\", 1991) # valid\n",
        "matlab = Language(\"MATLAB\", 2984) # too recent\n",
        "fortran = Language(\"FORTRAN\", \"fifty four\") # wrong type\n",
        "\n",
        "print(python.get_info())\n",
        "print(matlab.get_info())\n",
        "print(fortran.get_info())"
      ],
      "metadata": {
        "colab": {
          "base_uri": "https://localhost:8080/"
        },
        "id": "wbl-R-dbj2Y0",
        "outputId": "17f67ab2-4b16-4a42-921d-62fb79ece0a6"
      },
      "execution_count": null,
      "outputs": [
        {
          "output_type": "stream",
          "name": "stdout",
          "text": [
            "Python was created in 1991.\n",
            "MATLAB creation year is unknown.\n",
            "FORTRAN creation year is unknown.\n"
          ]
        },
        {
          "output_type": "stream",
          "name": "stderr",
          "text": [
            "Traceback (most recent call last):\n",
            "  File \"<ipython-input-11-b4e291fc9fb9>\", line 17, in __init__\n",
            "    raise ValueError(f\"The year {created} is not between 1990 and 2024.\")\n",
            "ValueError: The year 2984 is not between 1990 and 2024.\n",
            "Traceback (most recent call last):\n",
            "  File \"<ipython-input-11-b4e291fc9fb9>\", line 11, in __init__\n",
            "    created = int(created)\n",
            "ValueError: invalid literal for int() with base 10: 'fifty four'\n"
          ]
        }
      ]
    },
    {
      "cell_type": "code",
      "source": [
        "with open('languages.txt', 'w') as file:\n",
        "  for lang in favorite_languages:\n",
        "    file.write(f\"{lang}\\n\")\n",
        "\n",
        "with open('languages.txt', 'r') as file:\n",
        "    content = file.read()\n",
        "    print(content)"
      ],
      "metadata": {
        "colab": {
          "base_uri": "https://localhost:8080/"
        },
        "id": "1_dbmDnymRE9",
        "outputId": "84a94c6c-6650-493d-f985-e5c74cb95153"
      },
      "execution_count": null,
      "outputs": [
        {
          "output_type": "stream",
          "name": "stdout",
          "text": [
            "R\n",
            "MATLAB\n",
            "FORTRAN\n",
            "\n"
          ]
        }
      ]
    },
    {
      "cell_type": "code",
      "source": [
        "from collections import Counter\n",
        "import re\n",
        "import pandas as pd\n",
        "from plotnine import ggplot, aes, geom_bar, theme_minimal\n",
        "\n",
        "content = \"\"\"\n",
        "Explanation:\\n\\\\\n",
        "re.findall(r'\\b\\w+\\b', content.lower()): Uses regular expressions to find all words, converting the text to lowercase to ensure case-insensitivity.\\n\\\\\n",
        "Counter(words): Counts the frequency of each word using Python’s collections.Counter.\\n\\\\\n",
        "for word, count in word_counts.items(): Iterates through the word counts and prints each word with its count.\\n\\\\\n",
        "Interactive Experimentation:\\n\\\\\n",
        "Create the text_sample.txt file with some text of your choice.\\n\\\\\n",
        "Implement the text analysis program as shown.\\n\\\\\n",
        "Run the program and check the word counts.\n",
        "\"\"\"\n",
        "\n",
        "with open('text_sample.txt', 'w') as file:\n",
        "  file.write(content)\n",
        "\n",
        "content = \"\" # to make sure the value was read from file, rather then inherited\n",
        "with open('text_sample.txt', 'r') as file:\n",
        "    content = file.read()\n",
        "\n",
        "words = re.findall(r'\\b\\w+\\b', content.lower())\n",
        "word_counts = Counter(words)\n",
        "\n",
        "df_word_counts = (\n",
        "    pd\n",
        "    .DataFrame(word_counts.items(), columns=['Word', 'Count'])\n",
        "    .sort_values(by='Count', ascending=False)\n",
        "    .head(10)\n",
        ")\n",
        "\n",
        "plot = (\n",
        "    ggplot(df_word_counts, aes(x='Word', y='Count'))\n",
        "    + geom_bar(stat='identity')\n",
        "    + theme_minimal()\n",
        ")\n",
        "print(plot)"
      ],
      "metadata": {
        "id": "tgGxZ1YvwJZj"
      },
      "execution_count": null,
      "outputs": []
    },
    {
      "cell_type": "code",
      "source": [
        "def calculate_area(radius):\n",
        "    try:\n",
        "        area = 3.14 * radius**2\n",
        "    except TypeError:\n",
        "        print(\"Error: The radius must be a number.\")\n",
        "        area = None\n",
        "    return area\n",
        "\n",
        "# Test the function with an invalid input\n",
        "print(calculate_area('five'))\n"
      ],
      "metadata": {
        "id": "mv_C8WkX0AZ9",
        "colab": {
          "base_uri": "https://localhost:8080/"
        },
        "outputId": "c256c31a-a39a-4936-c4e6-a5915d7ada41"
      },
      "execution_count": null,
      "outputs": [
        {
          "output_type": "stream",
          "name": "stdout",
          "text": [
            "Error: The radius must be a number.\n",
            "None\n"
          ]
        }
      ]
    },
    {
      "cell_type": "code",
      "source": [
        "favorite_languages = [\"Python\", \"R\", \"MATLAB\", \"FORTRAN\"]\n",
        "with open('languages.txt', 'w') as file:\n",
        "    for lang in favorite_languages:\n",
        "        file.write(f\"{lang}\\n\")\n",
        "\n",
        "print(\"File written successfully.\")\n"
      ],
      "metadata": {
        "id": "QzBkABZ93F3V"
      },
      "execution_count": null,
      "outputs": []
    },
    {
      "cell_type": "code",
      "source": [
        "# code for iterative checkpoint 1\n",
        "content = \"\"\"\n",
        "Explanation:\\n\\\\\n",
        "re.findall(r'\\b\\w+\\b', content.lower()): Uses regular expressions to find all words, converting the text to lowercase to ensure case-insensitivity.\\n\\\\\n",
        "Counter(words): Counts the frequency of each word using Python’s collections.Counter.\\n\\\\\n",
        "for word, count in word_counts.items(): Iterates through the word counts and prints each word with its count.\\n\\\\\n",
        "Interactive Experimentation:\\n\\\\\n",
        "Create the text_sample.txt file with some text of your choice.\\n\\\\\n",
        "Implement the text analysis program as shown.\\n\\\\\n",
        "Run the program and check the word counts.\n",
        "\"\"\"\n",
        "\n",
        "with open('text_sample.txt', 'w') as file:\n",
        "  file.write(content)\n",
        "\n",
        "def count_lines(file_path):\n",
        "    try:\n",
        "        with open(file_path, 'r') as file:\n",
        "            lines = file.readlines()\n",
        "            return len(lines)\n",
        "    except FileNotFoundError:\n",
        "        print(f\"Error: The file {file_path} was not found.\")\n",
        "        return 0\n",
        "\n",
        "# Test with the file we created\n",
        "line_count = count_lines('text_sample.txt')\n",
        "print(f\"Number of lines: {line_count}\")\n",
        "\n",
        "# code for iterative checkpoint 2\n",
        "from collections import Counter\n",
        "import re\n",
        "import pandas as pd\n",
        "\n",
        "content = content.lower()\n",
        "words = re.findall(r'\\b\\w+\\b', content)\n",
        "word_counts = Counter(words)\n",
        "\n",
        "df_word_counts = (\n",
        "    pd\n",
        "    .DataFrame(word_counts.items(), columns=['Word', 'Count'])\n",
        "    .sort_values(by='Count', ascending=False)\n",
        "    .head(10)\n",
        ")\n",
        "\n",
        "df_word_counts.to_csv('output.csv', index=False)  # Save the DataFrame to 'output.csv'\n",
        "\n",
        "print(f\"Number of lines: {count_lines('output.csv')}\")"
      ],
      "metadata": {
        "colab": {
          "base_uri": "https://localhost:8080/"
        },
        "id": "xshIS_-d5IHQ",
        "outputId": "e3c89676-074e-401f-f3a0-67a08ae8d9c2"
      },
      "execution_count": null,
      "outputs": [
        {
          "output_type": "stream",
          "name": "stdout",
          "text": [
            "Object `pd.pd.DataFrame.to_csv` not found.\n"
          ]
        }
      ]
    },
    {
      "cell_type": "code",
      "source": [
        "?pd.DataFrame.to_csv"
      ],
      "metadata": {
        "id": "Z5bU9BBK5TIG"
      },
      "execution_count": null,
      "outputs": []
    },
    {
      "cell_type": "code",
      "source": [
        "from google.colab import drive\n",
        "drive.mount('/content/drive')\n",
        "\n",
        "# Save the file to a folder in your Google Drive\n",
        "df_word_counts.to_csv('/content/drive/My Drive/DDLS2024/output2.csv', index=False)"
      ],
      "metadata": {
        "id": "dV4mQy8M-DA7"
      },
      "execution_count": null,
      "outputs": []
    },
    {
      "cell_type": "code",
      "source": [],
      "metadata": {
        "id": "1iRLtvzaAi7t"
      },
      "execution_count": null,
      "outputs": []
    }
  ]
}