{
  "nbformat": 4,
  "nbformat_minor": 0,
  "metadata": {
    "colab": {
      "provenance": [],
      "authorship_tag": "ABX9TyML8IH6Ot/ZAhTybXIVIr4I",
      "include_colab_link": true
    },
    "kernelspec": {
      "name": "python3",
      "display_name": "Python 3"
    },
    "language_info": {
      "name": "python"
    }
  },
  "cells": [
    {
      "cell_type": "markdown",
      "metadata": {
        "id": "view-in-github",
        "colab_type": "text"
      },
      "source": [
        "<a href=\"https://colab.research.google.com/github/GBakalkinOAI/DDLS2024/blob/main/CellxGene_Census_scVI_Monocytes_01.ipynb\" target=\"_parent\"><img src=\"https://colab.research.google.com/assets/colab-badge.svg\" alt=\"Open In Colab\"/></a>"
      ]
    },
    {
      "cell_type": "code",
      "source": [
        "!pip install --quiet scvi-colab\n",
        "!pip install --quiet cellxgene-census\n",
        "!pip install --quiet pybiomart\n",
        "from scvi_colab import install\n",
        "\n",
        "install()"
      ],
      "metadata": {
        "colab": {
          "base_uri": "https://localhost:8080/"
        },
        "collapsed": true,
        "id": "h0RpzX0gMFHe",
        "outputId": "bb9517bc-df0a-449a-f317-a9e2184b841c"
      },
      "execution_count": null,
      "outputs": [
        {
          "output_type": "stream",
          "name": "stdout",
          "text": [
            "  Preparing metadata (setup.py) ... \u001b[?25l\u001b[?25hdone\n",
            "\u001b[2K   \u001b[90m━━━━━━━━━━━━━━━━━━━━━━━━━━━━━━━━━━━━━━━━\u001b[0m \u001b[32m54.9/54.9 kB\u001b[0m \u001b[31m2.4 MB/s\u001b[0m eta \u001b[36m0:00:00\u001b[0m\n",
            "\u001b[2K   \u001b[90m━━━━━━━━━━━━━━━━━━━━━━━━━━━━━━━━━━━━━━━━\u001b[0m \u001b[32m179.3/179.3 kB\u001b[0m \u001b[31m6.8 MB/s\u001b[0m eta \u001b[36m0:00:00\u001b[0m\n",
            "\u001b[2K   \u001b[90m━━━━━━━━━━━━━━━━━━━━━━━━━━━━━━━━━━━━━━━━\u001b[0m \u001b[32m17.5/17.5 MB\u001b[0m \u001b[31m56.1 MB/s\u001b[0m eta \u001b[36m0:00:00\u001b[0m\n",
            "\u001b[2K   \u001b[90m━━━━━━━━━━━━━━━━━━━━━━━━━━━━━━━━━━━━━━━━\u001b[0m \u001b[32m129.0/129.0 kB\u001b[0m \u001b[31m9.2 MB/s\u001b[0m eta \u001b[36m0:00:00\u001b[0m\n",
            "\u001b[2K   \u001b[90m━━━━━━━━━━━━━━━━━━━━━━━━━━━━━━━━━━━━━━━━\u001b[0m \u001b[32m77.4/77.4 kB\u001b[0m \u001b[31m5.9 MB/s\u001b[0m eta \u001b[36m0:00:00\u001b[0m\n",
            "\u001b[2K   \u001b[90m━━━━━━━━━━━━━━━━━━━━━━━━━━━━━━━━━━━━━━━━\u001b[0m \u001b[32m49.5/49.5 kB\u001b[0m \u001b[31m3.9 MB/s\u001b[0m eta \u001b[36m0:00:00\u001b[0m\n",
            "\u001b[2K   \u001b[90m━━━━━━━━━━━━━━━━━━━━━━━━━━━━━━━━━━━━━━━━\u001b[0m \u001b[32m2.1/2.1 MB\u001b[0m \u001b[31m63.7 MB/s\u001b[0m eta \u001b[36m0:00:00\u001b[0m\n",
            "\u001b[2K   \u001b[90m━━━━━━━━━━━━━━━━━━━━━━━━━━━━━━━━━━━━━━━━\u001b[0m \u001b[32m16.8/16.8 MB\u001b[0m \u001b[31m67.7 MB/s\u001b[0m eta \u001b[36m0:00:00\u001b[0m\n",
            "\u001b[2K   \u001b[90m━━━━━━━━━━━━━━━━━━━━━━━━━━━━━━━━━━━━━━━━\u001b[0m \u001b[32m12.6/12.6 MB\u001b[0m \u001b[31m74.8 MB/s\u001b[0m eta \u001b[36m0:00:00\u001b[0m\n",
            "\u001b[2K   \u001b[90m━━━━━━━━━━━━━━━━━━━━━━━━━━━━━━━━━━━━━━━━\u001b[0m \u001b[32m56.9/56.9 kB\u001b[0m \u001b[31m4.4 MB/s\u001b[0m eta \u001b[36m0:00:00\u001b[0m\n",
            "\u001b[2K   \u001b[90m━━━━━━━━━━━━━━━━━━━━━━━━━━━━━━━━━━━━━━━━\u001b[0m \u001b[32m85.7/85.7 kB\u001b[0m \u001b[31m5.9 MB/s\u001b[0m eta \u001b[36m0:00:00\u001b[0m\n",
            "\u001b[2K   \u001b[90m━━━━━━━━━━━━━━━━━━━━━━━━━━━━━━━━━━━━━━━━\u001b[0m \u001b[32m79.8/79.8 kB\u001b[0m \u001b[31m6.5 MB/s\u001b[0m eta \u001b[36m0:00:00\u001b[0m\n",
            "\u001b[?25h  Building wheel for session-info (setup.py) ... \u001b[?25l\u001b[?25hdone\n",
            "\u001b[31mERROR: pip's dependency resolver does not currently take into account all the packages that are installed. This behaviour is the source of the following dependency conflicts.\n",
            "gcsfs 2024.6.1 requires fsspec==2024.6.1, but you have fsspec 2024.9.0 which is incompatible.\u001b[0m\u001b[31m\n",
            "\u001b[2K   \u001b[90m━━━━━━━━━━━━━━━━━━━━━━━━━━━━━━━━━━━━━━━━\u001b[0m \u001b[32m61.4/61.4 kB\u001b[0m \u001b[31m2.5 MB/s\u001b[0m eta \u001b[36m0:00:00\u001b[0m\n",
            "\u001b[2K   \u001b[90m━━━━━━━━━━━━━━━━━━━━━━━━━━━━━━━━━━━━━━━━\u001b[0m \u001b[32m66.4/66.4 kB\u001b[0m \u001b[31m4.7 MB/s\u001b[0m eta \u001b[36m0:00:00\u001b[0m\n",
            "\u001b[?25h\u001b[34mINFO    \u001b[0m scvi-colab: Installing scvi-tools.                                                                        \n",
            "\u001b[34mINFO    \u001b[0m scvi-colab: Install successful. Testing import.                                                           \n"
          ]
        }
      ]
    },
    {
      "cell_type": "code",
      "execution_count": null,
      "metadata": {
        "id": "rHS8dqlWfSBt"
      },
      "outputs": [],
      "source": [
        "# Import necessary libraries\n",
        "import cellxgene_census\n",
        "import scanpy as sc\n",
        "import matplotlib.pyplot as plt\n",
        "import pandas as pd\n",
        "import numpy as np\n",
        "import seaborn as sns\n",
        "import scvi"
      ]
    },
    {
      "cell_type": "code",
      "source": [
        "with cellxgene_census.open_soma(census_version=\"2024-07-01\") as census:\n",
        "\n",
        "    cell_metadata = cellxgene_census.get_obs(\n",
        "        census,\n",
        "        \"homo_sapiens\",\n",
        "        # value_filter = \"sex == 'male' and is_primary_data == True\",\n",
        "        value_filter = \"sex == 'male'\",\n",
        "        column_names = [\n",
        "            \"dataset_id\",\n",
        "            \"assay\", \"assay_ontology_term_id\", \"suspension_type\", # assay, cell or nucleus\n",
        "            \"cell_type\", \"cell_type_ontology_term_id\",\n",
        "            \"development_stage\", # sometimes we have age here, too many \"unknown\"\n",
        "            \"self_reported_ethnicity\", # too many \"unknown\"\n",
        "            \"tissue\", \"tissue_general\", \"tissue_type\",\n",
        "            \"disease\", \"disease_ontology_term_id\",\n",
        "            \"donor_id\"\n",
        "            ]\n",
        "    )\n",
        "print(cell_metadata.columns)"
      ],
      "metadata": {
        "colab": {
          "base_uri": "https://localhost:8080/"
        },
        "outputId": "bf05649f-98de-4a19-efbc-8e4e43791b13",
        "collapsed": true,
        "id": "SaM6BugwQCtR"
      },
      "execution_count": null,
      "outputs": [
        {
          "output_type": "stream",
          "name": "stdout",
          "text": [
            "Index(['dataset_id', 'assay', 'assay_ontology_term_id', 'suspension_type',\n",
            "       'cell_type', 'cell_type_ontology_term_id', 'development_stage',\n",
            "       'tissue_ontology_term_id', 'tissue_general',\n",
            "       'tissue_general_ontology_term_id', 'disease_ontology_term_id',\n",
            "       'donor_id', 'sex'],\n",
            "      dtype='object')\n"
          ]
        }
      ]
    },
    {
      "cell_type": "code",
      "source": [
        "print(cell_metadata[\"dataset_id\"].value_counts(normalize=True).head(3))\n",
        "print(\"\")\n",
        "print(cell_metadata.value_counts(subset=[\"assay\", \"assay_ontology_term_id\", \"suspension_type\"], normalize=True).head(3))\n",
        "print(\"\")\n",
        "print(cell_metadata.value_counts(subset=[\"cell_type\", \"cell_type_ontology_term_id\"], normalize=True).head(5))\n",
        "print(\"\")\n",
        "print(cell_metadata.value_counts(subset=[\"development_stage\"]).head(5))\n",
        "print(\"\")\n",
        "#print(cell_metadata[\"self_reported_ethnicity\"].value_counts().head(3))\n",
        "#print(\"\")\n",
        "print(cell_metadata.value_counts(subset=[\"tissue\", \"tissue_ontology_term_id\", \"tissue_general\", \"tissue_general_ontology_term_id\", \"tissue_type\"]).head(3))\n",
        "print(\"\")\n",
        "print(cell_metadata.value_counts(subset=[\"disease\", \"disease_ontology_term_id\"]).head(3))\n",
        "print(\"\")\n",
        "print(cell_metadata.value_counts(subset=[\"donor_id\"]).head(5))"
      ],
      "metadata": {
        "colab": {
          "base_uri": "https://localhost:8080/",
          "height": 1000
        },
        "collapsed": true,
        "id": "w45ZUiTjb6FZ",
        "outputId": "7c1d00c9-8a58-437b-bcf2-2532e70301c8"
      },
      "execution_count": null,
      "outputs": [
        {
          "output_type": "stream",
          "name": "stdout",
          "text": [
            "dataset_id\n",
            "f7c1c579-2dc0-47e2-ba19-8165c5a0e353    0.063174\n",
            "8e10f1c4-8e98-41e5-b65f-8cd89a887122    0.060901\n",
            "d6505c89-c43d-4c28-8c4f-7351a5fd5528    0.027557\n",
            "Name: proportion, dtype: float64\n",
            "\n",
            "assay      assay_ontology_term_id  suspension_type\n",
            "10x 3' v3  EFO:0009922             nucleus            0.495522\n",
            "10x 3' v2  EFO:0009899             cell               0.121607\n",
            "10x 3' v3  EFO:0009922             cell               0.081707\n",
            "Name: proportion, dtype: float64\n",
            "\n",
            "cell_type                                                  cell_type_ontology_term_id\n",
            "neuron                                                     CL:0000540                    0.190357\n",
            "oligodendrocyte                                            CL:0000128                    0.055749\n",
            "L2/3-6 intratelencephalic projecting glutamatergic neuron  CL:4023040                    0.054336\n",
            "glutamatergic neuron                                       CL:0000679                    0.030228\n",
            "astrocyte                                                  CL:0000127                    0.021954\n",
            "Name: proportion, dtype: float64\n",
            "\n",
            "development_stage                       \n",
            "50-year-old human stage                     4857271\n",
            "42-year-old human stage                     3993517\n",
            "29-year-old human stage                     3938075\n",
            "sixth decade human stage                    1417728\n",
            "15th week post-fertilization human stage    1232515\n",
            "Name: count, dtype: int64\n",
            "\n"
          ]
        },
        {
          "output_type": "error",
          "ename": "KeyError",
          "evalue": "'self_reported_ethnicity'",
          "traceback": [
            "\u001b[0;31m---------------------------------------------------------------------------\u001b[0m",
            "\u001b[0;31mKeyError\u001b[0m                                  Traceback (most recent call last)",
            "\u001b[0;32m/usr/local/lib/python3.10/dist-packages/pandas/core/indexes/base.py\u001b[0m in \u001b[0;36mget_loc\u001b[0;34m(self, key)\u001b[0m\n\u001b[1;32m   3804\u001b[0m         \u001b[0;32mtry\u001b[0m\u001b[0;34m:\u001b[0m\u001b[0;34m\u001b[0m\u001b[0;34m\u001b[0m\u001b[0m\n\u001b[0;32m-> 3805\u001b[0;31m             \u001b[0;32mreturn\u001b[0m \u001b[0mself\u001b[0m\u001b[0;34m.\u001b[0m\u001b[0m_engine\u001b[0m\u001b[0;34m.\u001b[0m\u001b[0mget_loc\u001b[0m\u001b[0;34m(\u001b[0m\u001b[0mcasted_key\u001b[0m\u001b[0;34m)\u001b[0m\u001b[0;34m\u001b[0m\u001b[0;34m\u001b[0m\u001b[0m\n\u001b[0m\u001b[1;32m   3806\u001b[0m         \u001b[0;32mexcept\u001b[0m \u001b[0mKeyError\u001b[0m \u001b[0;32mas\u001b[0m \u001b[0merr\u001b[0m\u001b[0;34m:\u001b[0m\u001b[0;34m\u001b[0m\u001b[0;34m\u001b[0m\u001b[0m\n",
            "\u001b[0;32mindex.pyx\u001b[0m in \u001b[0;36mpandas._libs.index.IndexEngine.get_loc\u001b[0;34m()\u001b[0m\n",
            "\u001b[0;32mindex.pyx\u001b[0m in \u001b[0;36mpandas._libs.index.IndexEngine.get_loc\u001b[0;34m()\u001b[0m\n",
            "\u001b[0;32mpandas/_libs/hashtable_class_helper.pxi\u001b[0m in \u001b[0;36mpandas._libs.hashtable.PyObjectHashTable.get_item\u001b[0;34m()\u001b[0m\n",
            "\u001b[0;32mpandas/_libs/hashtable_class_helper.pxi\u001b[0m in \u001b[0;36mpandas._libs.hashtable.PyObjectHashTable.get_item\u001b[0;34m()\u001b[0m\n",
            "\u001b[0;31mKeyError\u001b[0m: 'self_reported_ethnicity'",
            "\nThe above exception was the direct cause of the following exception:\n",
            "\u001b[0;31mKeyError\u001b[0m                                  Traceback (most recent call last)",
            "\u001b[0;32m<ipython-input-35-4578e66a948d>\u001b[0m in \u001b[0;36m<cell line: 9>\u001b[0;34m()\u001b[0m\n\u001b[1;32m      7\u001b[0m \u001b[0mprint\u001b[0m\u001b[0;34m(\u001b[0m\u001b[0mcell_metadata\u001b[0m\u001b[0;34m.\u001b[0m\u001b[0mvalue_counts\u001b[0m\u001b[0;34m(\u001b[0m\u001b[0msubset\u001b[0m\u001b[0;34m=\u001b[0m\u001b[0;34m[\u001b[0m\u001b[0;34m\"development_stage\"\u001b[0m\u001b[0;34m]\u001b[0m\u001b[0;34m)\u001b[0m\u001b[0;34m.\u001b[0m\u001b[0mhead\u001b[0m\u001b[0;34m(\u001b[0m\u001b[0;36m5\u001b[0m\u001b[0;34m)\u001b[0m\u001b[0;34m)\u001b[0m\u001b[0;34m\u001b[0m\u001b[0;34m\u001b[0m\u001b[0m\n\u001b[1;32m      8\u001b[0m \u001b[0mprint\u001b[0m\u001b[0;34m(\u001b[0m\u001b[0;34m\"\"\u001b[0m\u001b[0;34m)\u001b[0m\u001b[0;34m\u001b[0m\u001b[0;34m\u001b[0m\u001b[0m\n\u001b[0;32m----> 9\u001b[0;31m \u001b[0mprint\u001b[0m\u001b[0;34m(\u001b[0m\u001b[0mcell_metadata\u001b[0m\u001b[0;34m[\u001b[0m\u001b[0;34m\"self_reported_ethnicity\"\u001b[0m\u001b[0;34m]\u001b[0m\u001b[0;34m.\u001b[0m\u001b[0mvalue_counts\u001b[0m\u001b[0;34m(\u001b[0m\u001b[0;34m)\u001b[0m\u001b[0;34m.\u001b[0m\u001b[0mhead\u001b[0m\u001b[0;34m(\u001b[0m\u001b[0;36m3\u001b[0m\u001b[0;34m)\u001b[0m\u001b[0;34m)\u001b[0m\u001b[0;34m\u001b[0m\u001b[0;34m\u001b[0m\u001b[0m\n\u001b[0m\u001b[1;32m     10\u001b[0m \u001b[0mprint\u001b[0m\u001b[0;34m(\u001b[0m\u001b[0;34m\"\"\u001b[0m\u001b[0;34m)\u001b[0m\u001b[0;34m\u001b[0m\u001b[0;34m\u001b[0m\u001b[0m\n\u001b[1;32m     11\u001b[0m \u001b[0mprint\u001b[0m\u001b[0;34m(\u001b[0m\u001b[0mcell_metadata\u001b[0m\u001b[0;34m.\u001b[0m\u001b[0mvalue_counts\u001b[0m\u001b[0;34m(\u001b[0m\u001b[0msubset\u001b[0m\u001b[0;34m=\u001b[0m\u001b[0;34m[\u001b[0m\u001b[0;34m\"tissue\"\u001b[0m\u001b[0;34m,\u001b[0m \u001b[0;34m\"tissue_ontology_term_id\"\u001b[0m\u001b[0;34m,\u001b[0m \u001b[0;34m\"tissue_general\"\u001b[0m\u001b[0;34m,\u001b[0m \u001b[0;34m\"tissue_general_ontology_term_id\"\u001b[0m\u001b[0;34m,\u001b[0m \u001b[0;34m\"tissue_type\"\u001b[0m\u001b[0;34m]\u001b[0m\u001b[0;34m)\u001b[0m\u001b[0;34m.\u001b[0m\u001b[0mhead\u001b[0m\u001b[0;34m(\u001b[0m\u001b[0;36m3\u001b[0m\u001b[0;34m)\u001b[0m\u001b[0;34m)\u001b[0m\u001b[0;34m\u001b[0m\u001b[0;34m\u001b[0m\u001b[0m\n",
            "\u001b[0;32m/usr/local/lib/python3.10/dist-packages/pandas/core/frame.py\u001b[0m in \u001b[0;36m__getitem__\u001b[0;34m(self, key)\u001b[0m\n\u001b[1;32m   4100\u001b[0m             \u001b[0;32mif\u001b[0m \u001b[0mself\u001b[0m\u001b[0;34m.\u001b[0m\u001b[0mcolumns\u001b[0m\u001b[0;34m.\u001b[0m\u001b[0mnlevels\u001b[0m \u001b[0;34m>\u001b[0m \u001b[0;36m1\u001b[0m\u001b[0;34m:\u001b[0m\u001b[0;34m\u001b[0m\u001b[0;34m\u001b[0m\u001b[0m\n\u001b[1;32m   4101\u001b[0m                 \u001b[0;32mreturn\u001b[0m \u001b[0mself\u001b[0m\u001b[0;34m.\u001b[0m\u001b[0m_getitem_multilevel\u001b[0m\u001b[0;34m(\u001b[0m\u001b[0mkey\u001b[0m\u001b[0;34m)\u001b[0m\u001b[0;34m\u001b[0m\u001b[0;34m\u001b[0m\u001b[0m\n\u001b[0;32m-> 4102\u001b[0;31m             \u001b[0mindexer\u001b[0m \u001b[0;34m=\u001b[0m \u001b[0mself\u001b[0m\u001b[0;34m.\u001b[0m\u001b[0mcolumns\u001b[0m\u001b[0;34m.\u001b[0m\u001b[0mget_loc\u001b[0m\u001b[0;34m(\u001b[0m\u001b[0mkey\u001b[0m\u001b[0;34m)\u001b[0m\u001b[0;34m\u001b[0m\u001b[0;34m\u001b[0m\u001b[0m\n\u001b[0m\u001b[1;32m   4103\u001b[0m             \u001b[0;32mif\u001b[0m \u001b[0mis_integer\u001b[0m\u001b[0;34m(\u001b[0m\u001b[0mindexer\u001b[0m\u001b[0;34m)\u001b[0m\u001b[0;34m:\u001b[0m\u001b[0;34m\u001b[0m\u001b[0;34m\u001b[0m\u001b[0m\n\u001b[1;32m   4104\u001b[0m                 \u001b[0mindexer\u001b[0m \u001b[0;34m=\u001b[0m \u001b[0;34m[\u001b[0m\u001b[0mindexer\u001b[0m\u001b[0;34m]\u001b[0m\u001b[0;34m\u001b[0m\u001b[0;34m\u001b[0m\u001b[0m\n",
            "\u001b[0;32m/usr/local/lib/python3.10/dist-packages/pandas/core/indexes/base.py\u001b[0m in \u001b[0;36mget_loc\u001b[0;34m(self, key)\u001b[0m\n\u001b[1;32m   3810\u001b[0m             ):\n\u001b[1;32m   3811\u001b[0m                 \u001b[0;32mraise\u001b[0m \u001b[0mInvalidIndexError\u001b[0m\u001b[0;34m(\u001b[0m\u001b[0mkey\u001b[0m\u001b[0;34m)\u001b[0m\u001b[0;34m\u001b[0m\u001b[0;34m\u001b[0m\u001b[0m\n\u001b[0;32m-> 3812\u001b[0;31m             \u001b[0;32mraise\u001b[0m \u001b[0mKeyError\u001b[0m\u001b[0;34m(\u001b[0m\u001b[0mkey\u001b[0m\u001b[0;34m)\u001b[0m \u001b[0;32mfrom\u001b[0m \u001b[0merr\u001b[0m\u001b[0;34m\u001b[0m\u001b[0;34m\u001b[0m\u001b[0m\n\u001b[0m\u001b[1;32m   3813\u001b[0m         \u001b[0;32mexcept\u001b[0m \u001b[0mTypeError\u001b[0m\u001b[0;34m:\u001b[0m\u001b[0;34m\u001b[0m\u001b[0;34m\u001b[0m\u001b[0m\n\u001b[1;32m   3814\u001b[0m             \u001b[0;31m# If we have a listlike key, _check_indexing_error will raise\u001b[0m\u001b[0;34m\u001b[0m\u001b[0;34m\u001b[0m\u001b[0m\n",
            "\u001b[0;31mKeyError\u001b[0m: 'self_reported_ethnicity'"
          ]
        }
      ]
    },
    {
      "cell_type": "code",
      "source": [
        "import cellxgene_census\n",
        "\n",
        "with cellxgene_census.open_soma(census_version=\"2024-07-01\") as census:\n",
        "\n",
        "    cell_metadata = cellxgene_census.get_obs(\n",
        "        census,\n",
        "        \"homo_sapiens\",\n",
        "        value_filter = \"sex == 'male' and cell_type in ['microglial cell', 'neuron']\",\n",
        "        column_names = [\"assay\", \"cell_type\", \"tissue\", \"tissue_general\", \"suspension_type\", \"disease\"]\n",
        "    )\n",
        "    print(cell_metadata)"
      ],
      "metadata": {
        "colab": {
          "base_uri": "https://localhost:8080/"
        },
        "collapsed": true,
        "id": "JJCCEFpxPc6Y",
        "outputId": "c8fc3413-f68b-476b-fc0d-cf6f65a50207"
      },
      "execution_count": null,
      "outputs": [
        {
          "output_type": "stream",
          "name": "stdout",
          "text": [
            "             assay        cell_type                          tissue  \\\n",
            "0        10x 5' v1           neuron                            lung   \n",
            "1        10x 5' v1           neuron                            lung   \n",
            "2        10x 5' v1           neuron                            lung   \n",
            "3        10x 5' v1           neuron                            lung   \n",
            "4        10x 5' v1           neuron                            lung   \n",
            "...            ...              ...                             ...   \n",
            "7830003  10x 3' v3  microglial cell  dorsolateral prefrontal cortex   \n",
            "7830004  10x 3' v3  microglial cell  dorsolateral prefrontal cortex   \n",
            "7830005  10x 3' v3  microglial cell  dorsolateral prefrontal cortex   \n",
            "7830006  10x 3' v3  microglial cell  dorsolateral prefrontal cortex   \n",
            "7830007  10x 3' v3  microglial cell  dorsolateral prefrontal cortex   \n",
            "\n",
            "        tissue_general suspension_type   disease   sex  \n",
            "0                 lung            cell    normal  male  \n",
            "1                 lung            cell    normal  male  \n",
            "2                 lung            cell    normal  male  \n",
            "3                 lung            cell    normal  male  \n",
            "4                 lung            cell    normal  male  \n",
            "...                ...             ...       ...   ...  \n",
            "7830003          brain         nucleus  dementia  male  \n",
            "7830004          brain         nucleus  dementia  male  \n",
            "7830005          brain         nucleus    normal  male  \n",
            "7830006          brain         nucleus    normal  male  \n",
            "7830007          brain         nucleus    normal  male  \n",
            "\n",
            "[7830008 rows x 7 columns]\n"
          ]
        }
      ]
    },
    {
      "cell_type": "code",
      "source": [
        "import cellxgene_census\n",
        "\n",
        "census = cellxgene_census.open_soma(census_version=\"2024-07-01\")\n",
        "adata = cellxgene_census.get_anndata(\n",
        "    census,\n",
        "    organism = \"homo_sapiens\",\n",
        "    measurement_name = \"RNA\",\n",
        "    obs_value_filter = \"tissue_general == 'central nervous system'\",\n",
        "    obs_embeddings = [\"scvi\"]\n",
        ")"
      ],
      "metadata": {
        "colab": {
          "base_uri": "https://localhost:8080/",
          "height": 530
        },
        "id": "YmtrNb6CLUFC",
        "outputId": "366cbfab-820b-499e-8b75-1372f1cf96bf"
      },
      "execution_count": null,
      "outputs": [
        {
          "output_type": "error",
          "ename": "ModuleNotFoundError",
          "evalue": "No module named 'tiledb.vector_search'",
          "traceback": [
            "\u001b[0;31m---------------------------------------------------------------------------\u001b[0m",
            "\u001b[0;31mModuleNotFoundError\u001b[0m                       Traceback (most recent call last)",
            "\u001b[0;32m<ipython-input-3-b3ffb46abcb0>\u001b[0m in \u001b[0;36m<cell line: 4>\u001b[0;34m()\u001b[0m\n\u001b[1;32m      2\u001b[0m \u001b[0;34m\u001b[0m\u001b[0m\n\u001b[1;32m      3\u001b[0m \u001b[0mcensus\u001b[0m \u001b[0;34m=\u001b[0m \u001b[0mcellxgene_census\u001b[0m\u001b[0;34m.\u001b[0m\u001b[0mopen_soma\u001b[0m\u001b[0;34m(\u001b[0m\u001b[0mcensus_version\u001b[0m\u001b[0;34m=\u001b[0m\u001b[0;34m\"2024-07-01\"\u001b[0m\u001b[0;34m)\u001b[0m\u001b[0;34m\u001b[0m\u001b[0;34m\u001b[0m\u001b[0m\n\u001b[0;32m----> 4\u001b[0;31m adata = cellxgene_census.get_anndata(\n\u001b[0m\u001b[1;32m      5\u001b[0m     \u001b[0mcensus\u001b[0m\u001b[0;34m,\u001b[0m\u001b[0;34m\u001b[0m\u001b[0;34m\u001b[0m\u001b[0m\n\u001b[1;32m      6\u001b[0m     \u001b[0morganism\u001b[0m \u001b[0;34m=\u001b[0m \u001b[0;34m\"homo_sapiens\"\u001b[0m\u001b[0;34m,\u001b[0m\u001b[0;34m\u001b[0m\u001b[0;34m\u001b[0m\u001b[0m\n",
            "\u001b[0;32m/usr/local/lib/python3.10/dist-packages/cellxgene_census/_get_anndata.py\u001b[0m in \u001b[0;36mget_anndata\u001b[0;34m(census, organism, measurement_name, X_name, X_layers, obsm_layers, obsp_layers, varm_layers, varp_layers, obs_value_filter, obs_coords, var_value_filter, var_coords, column_names, obs_embeddings, var_embeddings, obs_column_names, var_column_names)\u001b[0m\n\u001b[1;32m    148\u001b[0m         \u001b[0;31m# If obs_embeddings or var_embeddings are defined, inject them in the appropriate slot\u001b[0m\u001b[0;34m\u001b[0m\u001b[0;34m\u001b[0m\u001b[0m\n\u001b[1;32m    149\u001b[0m         \u001b[0;32mif\u001b[0m \u001b[0mobs_embeddings\u001b[0m \u001b[0;32mor\u001b[0m \u001b[0mvar_embeddings\u001b[0m\u001b[0;34m:\u001b[0m\u001b[0;34m\u001b[0m\u001b[0;34m\u001b[0m\u001b[0m\n\u001b[0;32m--> 150\u001b[0;31m             \u001b[0;32mfrom\u001b[0m \u001b[0;34m.\u001b[0m\u001b[0mexperimental\u001b[0m\u001b[0;34m.\u001b[0m\u001b[0m_embedding\u001b[0m \u001b[0;32mimport\u001b[0m \u001b[0m_get_embedding\u001b[0m\u001b[0;34m,\u001b[0m \u001b[0mget_embedding_metadata_by_name\u001b[0m\u001b[0;34m\u001b[0m\u001b[0;34m\u001b[0m\u001b[0m\n\u001b[0m\u001b[1;32m    151\u001b[0m \u001b[0;34m\u001b[0m\u001b[0m\n\u001b[1;32m    152\u001b[0m             \u001b[0mcensus_version\u001b[0m \u001b[0;34m=\u001b[0m \u001b[0m_extract_census_version\u001b[0m\u001b[0;34m(\u001b[0m\u001b[0mcensus\u001b[0m\u001b[0;34m)\u001b[0m\u001b[0;34m\u001b[0m\u001b[0;34m\u001b[0m\u001b[0m\n",
            "\u001b[0;32m/usr/local/lib/python3.10/dist-packages/cellxgene_census/experimental/__init__.py\u001b[0m in \u001b[0;36m<module>\u001b[0;34m\u001b[0m\n\u001b[1;32m      8\u001b[0m     \u001b[0mget_embedding_metadata_by_name\u001b[0m\u001b[0;34m,\u001b[0m\u001b[0;34m\u001b[0m\u001b[0;34m\u001b[0m\u001b[0m\n\u001b[1;32m      9\u001b[0m )\n\u001b[0;32m---> 10\u001b[0;31m \u001b[0;32mfrom\u001b[0m \u001b[0;34m.\u001b[0m\u001b[0m_embedding_search\u001b[0m \u001b[0;32mimport\u001b[0m \u001b[0mNeighborObs\u001b[0m\u001b[0;34m,\u001b[0m \u001b[0mfind_nearest_obs\u001b[0m\u001b[0;34m,\u001b[0m \u001b[0mpredict_obs_metadata\u001b[0m\u001b[0;34m\u001b[0m\u001b[0;34m\u001b[0m\u001b[0m\n\u001b[0m\u001b[1;32m     11\u001b[0m \u001b[0;34m\u001b[0m\u001b[0m\n\u001b[1;32m     12\u001b[0m __all__ = [\n",
            "\u001b[0;32m/usr/local/lib/python3.10/dist-packages/cellxgene_census/experimental/_embedding_search.py\u001b[0m in \u001b[0;36m<module>\u001b[0;34m\u001b[0m\n\u001b[1;32m      9\u001b[0m \u001b[0;32mimport\u001b[0m \u001b[0mnumpy\u001b[0m\u001b[0;34m.\u001b[0m\u001b[0mtyping\u001b[0m \u001b[0;32mas\u001b[0m \u001b[0mnpt\u001b[0m\u001b[0;34m\u001b[0m\u001b[0;34m\u001b[0m\u001b[0m\n\u001b[1;32m     10\u001b[0m \u001b[0;32mimport\u001b[0m \u001b[0mpandas\u001b[0m \u001b[0;32mas\u001b[0m \u001b[0mpd\u001b[0m\u001b[0;34m\u001b[0m\u001b[0;34m\u001b[0m\u001b[0m\n\u001b[0;32m---> 11\u001b[0;31m \u001b[0;32mimport\u001b[0m \u001b[0mtiledb\u001b[0m\u001b[0;34m.\u001b[0m\u001b[0mvector_search\u001b[0m \u001b[0;32mas\u001b[0m \u001b[0mvs\u001b[0m\u001b[0;34m\u001b[0m\u001b[0;34m\u001b[0m\u001b[0m\n\u001b[0m\u001b[1;32m     12\u001b[0m \u001b[0;32mimport\u001b[0m \u001b[0mtiledbsoma\u001b[0m \u001b[0;32mas\u001b[0m \u001b[0msoma\u001b[0m\u001b[0;34m\u001b[0m\u001b[0;34m\u001b[0m\u001b[0m\n\u001b[1;32m     13\u001b[0m \u001b[0;32mfrom\u001b[0m \u001b[0mscipy\u001b[0m \u001b[0;32mimport\u001b[0m \u001b[0msparse\u001b[0m\u001b[0;34m\u001b[0m\u001b[0;34m\u001b[0m\u001b[0m\n",
            "\u001b[0;31mModuleNotFoundError\u001b[0m: No module named 'tiledb.vector_search'",
            "",
            "\u001b[0;31m---------------------------------------------------------------------------\u001b[0;32m\nNOTE: If your import is failing due to a missing package, you can\nmanually install dependencies using either !pip or !apt.\n\nTo view examples of installing some common dependencies, click the\n\"Open Examples\" button below.\n\u001b[0;31m---------------------------------------------------------------------------\u001b[0m\n"
          ],
          "errorDetails": {
            "actions": [
              {
                "action": "open_url",
                "actionText": "Open Examples",
                "url": "/notebooks/snippets/importing_libraries.ipynb"
              }
            ]
          }
        }
      ]
    },
    {
      "cell_type": "code",
      "execution_count": null,
      "metadata": {
        "id": "zzBEPlDfA8WG"
      },
      "outputs": [],
      "source": [
        "# Import necessary libraries\n",
        "import cellxgene_census\n",
        "import scanpy as sc\n",
        "import matplotlib.pyplot as plt\n",
        "import pandas as pd\n",
        "import numpy as np\n",
        "import seaborn as sns\n",
        "import scvi"
      ]
    },
    {
      "cell_type": "code",
      "source": [
        "# Define parameters to access the dataset\n",
        "emb_names = [\"scvi\"]  # specify the embedding you are interested in\n",
        "dataset_version = \"2024-07-01\"  # the version of the dataset you want to use\n",
        "organism = \"homo_sapiens\"\n",
        "cell_type_query = \"Monocyte\"  # The cell type we want to focus on"
      ],
      "metadata": {
        "id": "g7jXfNkqFK_E"
      },
      "execution_count": null,
      "outputs": []
    },
    {
      "cell_type": "code",
      "source": [
        "# Open the dataset and query for Monocytes with the scVI embeddings\n",
        "with cellxgene_census.open_soma(census_version=dataset_version) as census:\n",
        "    adata = cellxgene_census.get_anndata(\n",
        "        census,\n",
        "        organism=organism,\n",
        "        measurement_name=\"RNA\",\n",
        "        obs_value_filter=\"cell_type == '{}'\".format(cell_type_query),  # Selecting Monocytes only\n",
        "        obs_embeddings=emb_names\n",
        "    )"
      ],
      "metadata": {
        "colab": {
          "base_uri": "https://localhost:8080/",
          "height": 807
        },
        "id": "tMDQJy0bFP36",
        "outputId": "d64f81b3-65fd-4bbc-c34a-7cdb4057ee7f"
      },
      "execution_count": null,
      "outputs": [
        {
          "output_type": "error",
          "ename": "ModuleNotFoundError",
          "evalue": "No module named 'tiledb.vector_search'",
          "traceback": [
            "\u001b[0;31m---------------------------------------------------------------------------\u001b[0m",
            "\u001b[0;31mModuleNotFoundError\u001b[0m                       Traceback (most recent call last)",
            "\u001b[0;32m<ipython-input-8-f9356ef98b88>\u001b[0m in \u001b[0;36m<cell line: 2>\u001b[0;34m()\u001b[0m\n\u001b[1;32m      1\u001b[0m \u001b[0;31m# Open the dataset and query for Monocytes with the scVI embeddings\u001b[0m\u001b[0;34m\u001b[0m\u001b[0;34m\u001b[0m\u001b[0m\n\u001b[1;32m      2\u001b[0m \u001b[0;32mwith\u001b[0m \u001b[0mcellxgene_census\u001b[0m\u001b[0;34m.\u001b[0m\u001b[0mopen_soma\u001b[0m\u001b[0;34m(\u001b[0m\u001b[0mcensus_version\u001b[0m\u001b[0;34m=\u001b[0m\u001b[0mdataset_version\u001b[0m\u001b[0;34m)\u001b[0m \u001b[0;32mas\u001b[0m \u001b[0mcensus\u001b[0m\u001b[0;34m:\u001b[0m\u001b[0;34m\u001b[0m\u001b[0;34m\u001b[0m\u001b[0m\n\u001b[0;32m----> 3\u001b[0;31m     adata = cellxgene_census.get_anndata(\n\u001b[0m\u001b[1;32m      4\u001b[0m         \u001b[0mcensus\u001b[0m\u001b[0;34m,\u001b[0m\u001b[0;34m\u001b[0m\u001b[0;34m\u001b[0m\u001b[0m\n\u001b[1;32m      5\u001b[0m         \u001b[0morganism\u001b[0m\u001b[0;34m=\u001b[0m\u001b[0morganism\u001b[0m\u001b[0;34m,\u001b[0m\u001b[0;34m\u001b[0m\u001b[0;34m\u001b[0m\u001b[0m\n",
            "\u001b[0;32m/usr/local/lib/python3.10/dist-packages/cellxgene_census/_get_anndata.py\u001b[0m in \u001b[0;36mget_anndata\u001b[0;34m(census, organism, measurement_name, X_name, X_layers, obsm_layers, obsp_layers, varm_layers, varp_layers, obs_value_filter, obs_coords, var_value_filter, var_coords, column_names, obs_embeddings, var_embeddings, obs_column_names, var_column_names)\u001b[0m\n\u001b[1;32m    148\u001b[0m         \u001b[0;31m# If obs_embeddings or var_embeddings are defined, inject them in the appropriate slot\u001b[0m\u001b[0;34m\u001b[0m\u001b[0;34m\u001b[0m\u001b[0m\n\u001b[1;32m    149\u001b[0m         \u001b[0;32mif\u001b[0m \u001b[0mobs_embeddings\u001b[0m \u001b[0;32mor\u001b[0m \u001b[0mvar_embeddings\u001b[0m\u001b[0;34m:\u001b[0m\u001b[0;34m\u001b[0m\u001b[0;34m\u001b[0m\u001b[0m\n\u001b[0;32m--> 150\u001b[0;31m             \u001b[0;32mfrom\u001b[0m \u001b[0;34m.\u001b[0m\u001b[0mexperimental\u001b[0m\u001b[0;34m.\u001b[0m\u001b[0m_embedding\u001b[0m \u001b[0;32mimport\u001b[0m \u001b[0m_get_embedding\u001b[0m\u001b[0;34m,\u001b[0m \u001b[0mget_embedding_metadata_by_name\u001b[0m\u001b[0;34m\u001b[0m\u001b[0;34m\u001b[0m\u001b[0m\n\u001b[0m\u001b[1;32m    151\u001b[0m \u001b[0;34m\u001b[0m\u001b[0m\n\u001b[1;32m    152\u001b[0m             \u001b[0mcensus_version\u001b[0m \u001b[0;34m=\u001b[0m \u001b[0m_extract_census_version\u001b[0m\u001b[0;34m(\u001b[0m\u001b[0mcensus\u001b[0m\u001b[0;34m)\u001b[0m\u001b[0;34m\u001b[0m\u001b[0;34m\u001b[0m\u001b[0m\n",
            "\u001b[0;32m/usr/local/lib/python3.10/dist-packages/cellxgene_census/experimental/__init__.py\u001b[0m in \u001b[0;36m<module>\u001b[0;34m\u001b[0m\n\u001b[1;32m      8\u001b[0m     \u001b[0mget_embedding_metadata_by_name\u001b[0m\u001b[0;34m,\u001b[0m\u001b[0;34m\u001b[0m\u001b[0;34m\u001b[0m\u001b[0m\n\u001b[1;32m      9\u001b[0m )\n\u001b[0;32m---> 10\u001b[0;31m \u001b[0;32mfrom\u001b[0m \u001b[0;34m.\u001b[0m\u001b[0m_embedding_search\u001b[0m \u001b[0;32mimport\u001b[0m \u001b[0mNeighborObs\u001b[0m\u001b[0;34m,\u001b[0m \u001b[0mfind_nearest_obs\u001b[0m\u001b[0;34m,\u001b[0m \u001b[0mpredict_obs_metadata\u001b[0m\u001b[0;34m\u001b[0m\u001b[0;34m\u001b[0m\u001b[0m\n\u001b[0m\u001b[1;32m     11\u001b[0m \u001b[0;34m\u001b[0m\u001b[0m\n\u001b[1;32m     12\u001b[0m __all__ = [\n",
            "\u001b[0;32m/usr/local/lib/python3.10/dist-packages/cellxgene_census/experimental/_embedding_search.py\u001b[0m in \u001b[0;36m<module>\u001b[0;34m\u001b[0m\n\u001b[1;32m      9\u001b[0m \u001b[0;32mimport\u001b[0m \u001b[0mnumpy\u001b[0m\u001b[0;34m.\u001b[0m\u001b[0mtyping\u001b[0m \u001b[0;32mas\u001b[0m \u001b[0mnpt\u001b[0m\u001b[0;34m\u001b[0m\u001b[0;34m\u001b[0m\u001b[0m\n\u001b[1;32m     10\u001b[0m \u001b[0;32mimport\u001b[0m \u001b[0mpandas\u001b[0m \u001b[0;32mas\u001b[0m \u001b[0mpd\u001b[0m\u001b[0;34m\u001b[0m\u001b[0;34m\u001b[0m\u001b[0m\n\u001b[0;32m---> 11\u001b[0;31m \u001b[0;32mimport\u001b[0m \u001b[0mtiledb\u001b[0m\u001b[0;34m.\u001b[0m\u001b[0mvector_search\u001b[0m \u001b[0;32mas\u001b[0m \u001b[0mvs\u001b[0m\u001b[0;34m\u001b[0m\u001b[0;34m\u001b[0m\u001b[0m\n\u001b[0m\u001b[1;32m     12\u001b[0m \u001b[0;32mimport\u001b[0m \u001b[0mtiledbsoma\u001b[0m \u001b[0;32mas\u001b[0m \u001b[0msoma\u001b[0m\u001b[0;34m\u001b[0m\u001b[0;34m\u001b[0m\u001b[0m\n\u001b[1;32m     13\u001b[0m \u001b[0;32mfrom\u001b[0m \u001b[0mscipy\u001b[0m \u001b[0;32mimport\u001b[0m \u001b[0msparse\u001b[0m\u001b[0;34m\u001b[0m\u001b[0;34m\u001b[0m\u001b[0m\n",
            "\u001b[0;31mModuleNotFoundError\u001b[0m: No module named 'tiledb.vector_search'",
            "",
            "\u001b[0;31m---------------------------------------------------------------------------\u001b[0;32m\nNOTE: If your import is failing due to a missing package, you can\nmanually install dependencies using either !pip or !apt.\n\nTo view examples of installing some common dependencies, click the\n\"Open Examples\" button below.\n\u001b[0;31m---------------------------------------------------------------------------\u001b[0m\n"
          ],
          "errorDetails": {
            "actions": [
              {
                "action": "open_url",
                "actionText": "Open Examples",
                "url": "/notebooks/snippets/importing_libraries.ipynb"
              }
            ]
          }
        }
      ]
    }
  ]
}