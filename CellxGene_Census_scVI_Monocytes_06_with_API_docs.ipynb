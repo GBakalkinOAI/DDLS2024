{
  "nbformat": 4,
  "nbformat_minor": 0,
  "metadata": {
    "colab": {
      "provenance": [],
      "include_colab_link": true
    },
    "kernelspec": {
      "name": "python3",
      "display_name": "Python 3"
    },
    "language_info": {
      "name": "python"
    }
  },
  "cells": [
    {
      "cell_type": "markdown",
      "metadata": {
        "id": "view-in-github",
        "colab_type": "text"
      },
      "source": [
        "<a href=\"https://colab.research.google.com/github/GBakalkinOAI/DDLS2024/blob/main/CellxGene_Census_scVI_Monocytes_06_with_API_docs.ipynb\" target=\"_parent\"><img src=\"https://colab.research.google.com/assets/colab-badge.svg\" alt=\"Open In Colab\"/></a>"
      ]
    },
    {
      "cell_type": "markdown",
      "source": [
        "This is my second attempt, where I scraped CELLxGENE Census github page for .md, .py and .ipynb files, combined them and attached to chatGPT https://chatgpt.com/share/670904ff-a098-8001-b522-56d7bb2bf25a"
      ],
      "metadata": {
        "id": "WIqOgXqROfio"
      }
    },
    {
      "cell_type": "code",
      "source": [
        "# Installation commands are taken from: https://docs.scvi-tools.org/en/latest/tutorials/notebooks/hub/cellxgene_census_model.html\n",
        "# See also: https://chanzuckerberg.github.io/cellxgene-census/cellxgene_census_docsite_installation.html\n",
        "!pip install --quiet scvi-colab\n",
        "!pip install --quiet cellxgene-census\n",
        "!pip install --quiet pybiomart\n",
        "from scvi_colab import install\n",
        "\n",
        "install()"
      ],
      "metadata": {
        "colab": {
          "base_uri": "https://localhost:8080/"
        },
        "collapsed": true,
        "id": "h0RpzX0gMFHe",
        "outputId": "db363e6b-a34a-4196-b151-f31b4ddea6d9"
      },
      "execution_count": null,
      "outputs": [
        {
          "output_type": "stream",
          "name": "stdout",
          "text": [
            "\u001b[31mERROR: pip's dependency resolver does not currently take into account all the packages that are installed. This behaviour is the source of the following dependency conflicts.\n",
            "gcsfs 2024.6.1 requires fsspec==2024.6.1, but you have fsspec 2024.9.0 which is incompatible.\n",
            "spatialdata 0.2.3 requires fsspec<=2023.6, but you have fsspec 2024.9.0 which is incompatible.\u001b[0m\u001b[31m\n",
            "\u001b[0m\u001b[34mINFO    \u001b[0m scvi-colab: Installing scvi-tools.                                                                        \n"
          ]
        },
        {
          "output_type": "stream",
          "name": "stderr",
          "text": [
            "\u001b[31mERROR: pip's dependency resolver does not currently take into account all the packages that are installed. This behaviour is the source of the following dependency conflicts.\n",
            "cellxgene-census 1.16.2 requires s3fs>=2021.06.1, but you have s3fs 0.6.0 which is incompatible.\n",
            "gcsfs 2024.6.1 requires fsspec==2024.6.1, but you have fsspec 2023.6.0 which is incompatible.\u001b[0m\u001b[31m\n",
            "\u001b[0m"
          ]
        },
        {
          "output_type": "stream",
          "name": "stdout",
          "text": [
            "\u001b[34mINFO    \u001b[0m scvi-colab: Install successful. Testing import.                                                           \n"
          ]
        }
      ]
    },
    {
      "cell_type": "code",
      "execution_count": null,
      "metadata": {
        "id": "rHS8dqlWfSBt"
      },
      "outputs": [],
      "source": [
        "# Import necessary libraries\n",
        "import cellxgene_census\n",
        "import scanpy as sc\n",
        "import matplotlib.pyplot as plt\n",
        "import pandas as pd\n",
        "import numpy as np\n",
        "import seaborn as sns\n",
        "import scvi"
      ]
    },
    {
      "cell_type": "code",
      "source": [
        "# Select the CELLxGENE Census snapshot, see detals of dataset's scheme here:\n",
        "#   https://raw.githubusercontent.com/chanzuckerberg/cellxgene-census/refs/heads/main/docs/cellxgene_census_schema.md\n",
        "#   https://raw.githubusercontent.com/chanzuckerberg/single-cell-curation/refs/heads/main/schema/5.0.0/schema.md\n",
        "dataset_version = \"2024-07-01\"\n",
        "\n",
        "# Define what do we extract from Census\n",
        "emb_names = [\"scvi\"]  # specify the embedding you are interested in\n",
        "organism = \"homo_sapiens\"\n",
        "cell_type_counts_min = 5 # drop cells if the corresponding cell type has too few cells in a particular donor\n",
        "cell_type_donors_min = 5 # drop cells if too few donors have the corresponding cell type"
      ],
      "metadata": {
        "id": "ZHZt2pYzUdpE"
      },
      "execution_count": null,
      "outputs": []
    },
    {
      "cell_type": "code",
      "source": [
        "# Experiment: get all features/genes, see https://chanzuckerberg.github.io/cellxgene-census/notebooks/analysis_demo/comp_bio_explore_and_load_lung_data.html\n",
        "#with cellxgene_census.open_soma(census_version=dataset_version) as census:\n",
        "#  CxG_var = cellxgene_census.get_var(census, organism)\n",
        "\n",
        "pd.set_option('display.max_rows', 20)\n",
        "pd.set_option('display.width', 120)\n",
        "#CxG_var"
      ],
      "metadata": {
        "id": "GZVjalVPavCf"
      },
      "execution_count": null,
      "outputs": []
    },
    {
      "cell_type": "code",
      "source": [
        "# Experiment: get all development_stage values\n",
        "with cellxgene_census.open_soma(census_version=dataset_version) as census:\n",
        "    cell_metadata = cellxgene_census.get_obs(\n",
        "        census,\n",
        "        organism,\n",
        "        value_filter = \"sex == 'male' and is_primary_data == True\",\n",
        "        column_names = [\n",
        "            'development_stage_ontology_term_id', 'development_stage'\n",
        "            ]\n",
        "    )\n",
        "\n",
        "pd.set_option('display.max_rows', None)\n",
        "pd.set_option('display.max_columns', None)\n",
        "pd.set_option('display.width', None)\n",
        "\n",
        "age_filter = r'year-old|decade|adult|middle aged' # older than 1 year old\n",
        "age_filter_relaxed = r'year-old|decade|adult|middle aged|'\n",
        "# unknown|under-1-year-old|adolescent|young adult|adult|early adulthood|late adulthood|middle aged|25-44 year-old|80 year-old and over|human aged|\n",
        "\n",
        "# Double-check the removed stages\n",
        "# cell_metadata[~cell_metadata['development_stage'].str.contains(age_filter, case=False, na=False)]['development_stage'].unique().tolist()\n",
        "cell_metadata[ cell_metadata['development_stage'].str.contains(age_filter, case=False, na=False)]['development_stage'].unique().tolist()\n",
        "\n",
        "\n",
        "# cell_metadata = cell_metadata[cell_metadata['development_stage'].str.contains(age_filter, case=False, na=False)]\n",
        "# print( cell_metadata.value_counts(subset=['development_stage_ontology_term_id', 'development_stage']) )"
      ],
      "metadata": {
        "id": "q5HA5_bPG4EY",
        "colab": {
          "base_uri": "https://localhost:8080/"
        },
        "outputId": "25429170-12ca-47a5-d934-a75db687e968"
      },
      "execution_count": null,
      "outputs": [
        {
          "output_type": "execute_result",
          "data": {
            "text/plain": [
              "['26-year-old human stage',\n",
              " '41-year-old human stage',\n",
              " 'human adult stage',\n",
              " 'human late adulthood stage',\n",
              " 'human early adulthood stage',\n",
              " '78-year-old human stage',\n",
              " '60-year-old human stage',\n",
              " '64-year-old human stage',\n",
              " '69-year-old human stage',\n",
              " '65-year-old human stage',\n",
              " '74-year-old human stage',\n",
              " '55-year-old human stage',\n",
              " '32-year-old human stage',\n",
              " '45-year-old human stage',\n",
              " '61-year-old human stage',\n",
              " '66-year-old human stage',\n",
              " '51-year-old human stage',\n",
              " '49-year-old human stage',\n",
              " '5-year-old human stage',\n",
              " '54-year-old human stage',\n",
              " '21-year-old human stage',\n",
              " '22-year-old human stage',\n",
              " '6-year-old human stage',\n",
              " '29-year-old human stage',\n",
              " '23-year-old human stage',\n",
              " '59-year-old human stage',\n",
              " '35-year-old human stage',\n",
              " '37-year-old human stage',\n",
              " '82-year-old human stage',\n",
              " '57-year-old human stage',\n",
              " '44-year-old human stage',\n",
              " '79-year-old human stage',\n",
              " '42-year-old human stage',\n",
              " '71-year-old human stage',\n",
              " '86-year-old human stage',\n",
              " '68-year-old human stage',\n",
              " '34-year-old human stage',\n",
              " '70-year-old human stage',\n",
              " '76-year-old human stage',\n",
              " '50-year-old human stage',\n",
              " '24-year-old human stage',\n",
              " '75-year-old human stage',\n",
              " '90-year-old human stage',\n",
              " '25-year-old human stage',\n",
              " '27-year-old human stage',\n",
              " '53-year-old human stage',\n",
              " '28-year-old human stage',\n",
              " '46-year-old human stage',\n",
              " '72-year-old human stage',\n",
              " '87-year-old human stage',\n",
              " '80 year-old and over human stage',\n",
              " '77-year-old human stage',\n",
              " '67-year-old human stage',\n",
              " '39-year-old human stage',\n",
              " '40-year-old human stage',\n",
              " '73-year-old human stage',\n",
              " '62-year-old human stage',\n",
              " '58-year-old human stage',\n",
              " '52-year-old human stage',\n",
              " '56-year-old human stage',\n",
              " '63-year-old human stage',\n",
              " '3-year-old human stage',\n",
              " '33-year-old human stage',\n",
              " 'third decade human stage',\n",
              " 'eighth decade human stage',\n",
              " 'fourth decade human stage',\n",
              " 'seventh decade human stage',\n",
              " 'sixth decade human stage',\n",
              " 'young adult stage',\n",
              " '4-year-old human stage',\n",
              " '13-year-old human stage',\n",
              " '12-year-old human stage',\n",
              " '11-year-old human stage',\n",
              " '9-year-old human stage',\n",
              " '14-year-old human stage',\n",
              " 'fifth decade human stage',\n",
              " '48-year-old human stage',\n",
              " '81-year-old human stage',\n",
              " '65-79 year-old human stage',\n",
              " '15-year-old human stage',\n",
              " '16-year-old human stage',\n",
              " '10-year-old human stage',\n",
              " '17-year-old human stage',\n",
              " '18-year-old human stage',\n",
              " '85-year-old human stage',\n",
              " '91-year-old human stage',\n",
              " '84-year-old human stage',\n",
              " '31-year-old human stage',\n",
              " '83-year-old human stage',\n",
              " '80-year-old human stage',\n",
              " '30-year-old human stage',\n",
              " '38-year-old human stage',\n",
              " '43-year-old human stage',\n",
              " '25-44 year-old human stage',\n",
              " '36-year-old human stage',\n",
              " '1-year-old human stage',\n",
              " '8-year-old human stage',\n",
              " '47-year-old human stage',\n",
              " '88-year-old human stage',\n",
              " 'ninth decade human stage',\n",
              " 'human middle aged stage',\n",
              " '2-year-old human stage',\n",
              " '89-year-old human stage',\n",
              " '20-year-old human stage',\n",
              " '2-5 year-old child stage',\n",
              " '6-12 year-old child stage',\n",
              " '19-year-old human stage',\n",
              " '93-year-old human stage',\n",
              " '7-year-old human stage',\n",
              " 'under-1-year-old human stage',\n",
              " '92-year-old human stage']"
            ]
          },
          "metadata": {},
          "execution_count": 29
        }
      ]
    },
    {
      "cell_type": "code",
      "source": [
        "with cellxgene_census.open_soma(census_version=dataset_version) as census:\n",
        "  # Which version of schema do we use exactly?\n",
        "  census_summary = census[\"census_info\"][\"summary\"].read().concat().to_pandas()\n",
        "\n",
        "  # To add citations and human readable names to `dataset_id` we can augment\n",
        "  # .get_obs() results with .merge(census_datasets, on=\"dataset_id\")\n",
        "  census_datasets = (\n",
        "      census[\"census_info\"][\"datasets\"]\n",
        "      .read(column_names=[\n",
        "          # \"citation\", # will need it for the publication\n",
        "          # \"collection_name\", \"collection_doi\",\n",
        "          \"dataset_title\", # human readable name\n",
        "          # \"dataset_h5ad_path\", # downloable from AWS using these file names\n",
        "          \"dataset_total_cell_count\", # how many cells are contributed (including duplicated cells)\n",
        "          \"dataset_id\" # key for .get_obs() results\n",
        "          ])\n",
        "      .concat().to_pandas()\n",
        "      .set_index(\"dataset_id\")\n",
        "  )\n",
        "\n",
        "  # Census summary with counts per cell type\n",
        "  # `label` is specific for each `category`, allowing further zoom-in\n",
        "  # number of labels per each `category` is as follows:\n",
        "  # 1 all  (label is 'na')\n",
        "  # 1 suspension_type (label is 'cell')\n",
        "  # 3 sex (label is 53.7% 'male', 41.2% 'female' and 5.1% 'unknown')\n",
        "  # 24 assay\n",
        "  # 31 self_reported_ethnicity\n",
        "  # 55 tissue_general\n",
        "  # 109 disease\n",
        "  # 267 tissue\n",
        "  # 698 cell_type\n",
        "  census_summary_cell_counts = (\n",
        "      census[\"census_info\"][\"summary_cell_counts\"]\n",
        "      .read().concat().to_pandas()\n",
        "      .query(\"organism == 'Homo sapiens'\") # Not like in `organism`, different spelling\n",
        "  )\n",
        "\n",
        "print( census_summary )\n",
        "# General information for all schemes: https://raw.githubusercontent.com/chanzuckerberg/cellxgene-census/refs/heads/main/docs/cellxgene_census_schema.md\n",
        "# Specific details for our schema v.5.0.0: https://raw.githubusercontent.com/chanzuckerberg/single-cell-curation/refs/heads/main/schema/5.0.0/schema.md\n",
        "\n",
        "# census_datasets # has 812 datasets, nothing interesting to see yet"
      ],
      "metadata": {
        "colab": {
          "base_uri": "https://localhost:8080/"
        },
        "collapsed": true,
        "id": "5hzM-6iuYR0t",
        "outputId": "1a3c8182-156b-4557-df5f-b8f3264683bc"
      },
      "execution_count": null,
      "outputs": [
        {
          "output_type": "stream",
          "name": "stdout",
          "text": [
            "   soma_joinid                       label       value\n",
            "0            0       census_schema_version       2.0.1\n",
            "1            1           census_build_date  2024-05-20\n",
            "2            2      dataset_schema_version       5.0.0\n",
            "3            3            total_cell_count   115556140\n",
            "4            4           unique_cell_count    60597966\n",
            "5            5  number_donors_homo_sapiens       17651\n",
            "6            6  number_donors_mus_musculus        4216\n"
          ]
        }
      ]
    },
    {
      "cell_type": "code",
      "source": [
        "# Search all cell types containing pattern \"*monocyte*\" so capture all cell types related to Monocytes\n",
        "cell_types_monocyte = census_summary_cell_counts.query(\"category == 'cell_type' and label.str.contains('monocyte', case=False, na=False)\")\n",
        "cell_types_monocyte[['label', 'ontology_term_id', 'unique_cell_count']]"
      ],
      "metadata": {
        "colab": {
          "base_uri": "https://localhost:8080/",
          "height": 425
        },
        "id": "XOoe7ZqLMLGm",
        "outputId": "65994a8f-c8c9-4eb9-af2e-4b38a430c760"
      },
      "execution_count": null,
      "outputs": [
        {
          "output_type": "execute_result",
          "data": {
            "text/plain": [
              "                                               label ontology_term_id  \\\n",
              "158             granulocyte monocyte progenitor cell       CL:0000557   \n",
              "160                                      promonocyte       CL:0000559   \n",
              "165                                         monocyte       CL:0000576   \n",
              "262                               classical monocyte       CL:0000860   \n",
              "265                           non-classical monocyte       CL:0000875   \n",
              "322                           CD14-positive monocyte       CL:0001054   \n",
              "350  CD14-positive, CD16-negative classical monocyte       CL:0002057   \n",
              "433                            intermediate monocyte       CL:0002393   \n",
              "435                 CD14-low, CD16-positive monocyte       CL:0002396   \n",
              "436            CD14-positive, CD16-positive monocyte       CL:0002397   \n",
              "444               MHC-II-positive classical monocyte       CL:0002470   \n",
              "544                  monocyte-derived dendritic cell       CL:0011031   \n",
              "\n",
              "     unique_cell_count  \n",
              "158               5893  \n",
              "160              10669  \n",
              "165             314205  \n",
              "262            1059249  \n",
              "265             178362  \n",
              "322             580910  \n",
              "350             261782  \n",
              "433               6148  \n",
              "435              87379  \n",
              "436              20045  \n",
              "444               1249  \n",
              "544              12490  "
            ],
            "text/html": [
              "\n",
              "  <div id=\"df-17967e6d-84a2-4eb4-be68-5bc9dc1bfdaf\" class=\"colab-df-container\">\n",
              "    <div>\n",
              "<style scoped>\n",
              "    .dataframe tbody tr th:only-of-type {\n",
              "        vertical-align: middle;\n",
              "    }\n",
              "\n",
              "    .dataframe tbody tr th {\n",
              "        vertical-align: top;\n",
              "    }\n",
              "\n",
              "    .dataframe thead th {\n",
              "        text-align: right;\n",
              "    }\n",
              "</style>\n",
              "<table border=\"1\" class=\"dataframe\">\n",
              "  <thead>\n",
              "    <tr style=\"text-align: right;\">\n",
              "      <th></th>\n",
              "      <th>label</th>\n",
              "      <th>ontology_term_id</th>\n",
              "      <th>unique_cell_count</th>\n",
              "    </tr>\n",
              "  </thead>\n",
              "  <tbody>\n",
              "    <tr>\n",
              "      <th>158</th>\n",
              "      <td>granulocyte monocyte progenitor cell</td>\n",
              "      <td>CL:0000557</td>\n",
              "      <td>5893</td>\n",
              "    </tr>\n",
              "    <tr>\n",
              "      <th>160</th>\n",
              "      <td>promonocyte</td>\n",
              "      <td>CL:0000559</td>\n",
              "      <td>10669</td>\n",
              "    </tr>\n",
              "    <tr>\n",
              "      <th>165</th>\n",
              "      <td>monocyte</td>\n",
              "      <td>CL:0000576</td>\n",
              "      <td>314205</td>\n",
              "    </tr>\n",
              "    <tr>\n",
              "      <th>262</th>\n",
              "      <td>classical monocyte</td>\n",
              "      <td>CL:0000860</td>\n",
              "      <td>1059249</td>\n",
              "    </tr>\n",
              "    <tr>\n",
              "      <th>265</th>\n",
              "      <td>non-classical monocyte</td>\n",
              "      <td>CL:0000875</td>\n",
              "      <td>178362</td>\n",
              "    </tr>\n",
              "    <tr>\n",
              "      <th>322</th>\n",
              "      <td>CD14-positive monocyte</td>\n",
              "      <td>CL:0001054</td>\n",
              "      <td>580910</td>\n",
              "    </tr>\n",
              "    <tr>\n",
              "      <th>350</th>\n",
              "      <td>CD14-positive, CD16-negative classical monocyte</td>\n",
              "      <td>CL:0002057</td>\n",
              "      <td>261782</td>\n",
              "    </tr>\n",
              "    <tr>\n",
              "      <th>433</th>\n",
              "      <td>intermediate monocyte</td>\n",
              "      <td>CL:0002393</td>\n",
              "      <td>6148</td>\n",
              "    </tr>\n",
              "    <tr>\n",
              "      <th>435</th>\n",
              "      <td>CD14-low, CD16-positive monocyte</td>\n",
              "      <td>CL:0002396</td>\n",
              "      <td>87379</td>\n",
              "    </tr>\n",
              "    <tr>\n",
              "      <th>436</th>\n",
              "      <td>CD14-positive, CD16-positive monocyte</td>\n",
              "      <td>CL:0002397</td>\n",
              "      <td>20045</td>\n",
              "    </tr>\n",
              "    <tr>\n",
              "      <th>444</th>\n",
              "      <td>MHC-II-positive classical monocyte</td>\n",
              "      <td>CL:0002470</td>\n",
              "      <td>1249</td>\n",
              "    </tr>\n",
              "    <tr>\n",
              "      <th>544</th>\n",
              "      <td>monocyte-derived dendritic cell</td>\n",
              "      <td>CL:0011031</td>\n",
              "      <td>12490</td>\n",
              "    </tr>\n",
              "  </tbody>\n",
              "</table>\n",
              "</div>\n",
              "    <div class=\"colab-df-buttons\">\n",
              "\n",
              "  <div class=\"colab-df-container\">\n",
              "    <button class=\"colab-df-convert\" onclick=\"convertToInteractive('df-17967e6d-84a2-4eb4-be68-5bc9dc1bfdaf')\"\n",
              "            title=\"Convert this dataframe to an interactive table.\"\n",
              "            style=\"display:none;\">\n",
              "\n",
              "  <svg xmlns=\"http://www.w3.org/2000/svg\" height=\"24px\" viewBox=\"0 -960 960 960\">\n",
              "    <path d=\"M120-120v-720h720v720H120Zm60-500h600v-160H180v160Zm220 220h160v-160H400v160Zm0 220h160v-160H400v160ZM180-400h160v-160H180v160Zm440 0h160v-160H620v160ZM180-180h160v-160H180v160Zm440 0h160v-160H620v160Z\"/>\n",
              "  </svg>\n",
              "    </button>\n",
              "\n",
              "  <style>\n",
              "    .colab-df-container {\n",
              "      display:flex;\n",
              "      gap: 12px;\n",
              "    }\n",
              "\n",
              "    .colab-df-convert {\n",
              "      background-color: #E8F0FE;\n",
              "      border: none;\n",
              "      border-radius: 50%;\n",
              "      cursor: pointer;\n",
              "      display: none;\n",
              "      fill: #1967D2;\n",
              "      height: 32px;\n",
              "      padding: 0 0 0 0;\n",
              "      width: 32px;\n",
              "    }\n",
              "\n",
              "    .colab-df-convert:hover {\n",
              "      background-color: #E2EBFA;\n",
              "      box-shadow: 0px 1px 2px rgba(60, 64, 67, 0.3), 0px 1px 3px 1px rgba(60, 64, 67, 0.15);\n",
              "      fill: #174EA6;\n",
              "    }\n",
              "\n",
              "    .colab-df-buttons div {\n",
              "      margin-bottom: 4px;\n",
              "    }\n",
              "\n",
              "    [theme=dark] .colab-df-convert {\n",
              "      background-color: #3B4455;\n",
              "      fill: #D2E3FC;\n",
              "    }\n",
              "\n",
              "    [theme=dark] .colab-df-convert:hover {\n",
              "      background-color: #434B5C;\n",
              "      box-shadow: 0px 1px 3px 1px rgba(0, 0, 0, 0.15);\n",
              "      filter: drop-shadow(0px 1px 2px rgba(0, 0, 0, 0.3));\n",
              "      fill: #FFFFFF;\n",
              "    }\n",
              "  </style>\n",
              "\n",
              "    <script>\n",
              "      const buttonEl =\n",
              "        document.querySelector('#df-17967e6d-84a2-4eb4-be68-5bc9dc1bfdaf button.colab-df-convert');\n",
              "      buttonEl.style.display =\n",
              "        google.colab.kernel.accessAllowed ? 'block' : 'none';\n",
              "\n",
              "      async function convertToInteractive(key) {\n",
              "        const element = document.querySelector('#df-17967e6d-84a2-4eb4-be68-5bc9dc1bfdaf');\n",
              "        const dataTable =\n",
              "          await google.colab.kernel.invokeFunction('convertToInteractive',\n",
              "                                                    [key], {});\n",
              "        if (!dataTable) return;\n",
              "\n",
              "        const docLinkHtml = 'Like what you see? Visit the ' +\n",
              "          '<a target=\"_blank\" href=https://colab.research.google.com/notebooks/data_table.ipynb>data table notebook</a>'\n",
              "          + ' to learn more about interactive tables.';\n",
              "        element.innerHTML = '';\n",
              "        dataTable['output_type'] = 'display_data';\n",
              "        await google.colab.output.renderOutput(dataTable, element);\n",
              "        const docLink = document.createElement('div');\n",
              "        docLink.innerHTML = docLinkHtml;\n",
              "        element.appendChild(docLink);\n",
              "      }\n",
              "    </script>\n",
              "  </div>\n",
              "\n",
              "\n",
              "<div id=\"df-fc22279f-5b24-4716-9568-4519aec8b6b9\">\n",
              "  <button class=\"colab-df-quickchart\" onclick=\"quickchart('df-fc22279f-5b24-4716-9568-4519aec8b6b9')\"\n",
              "            title=\"Suggest charts\"\n",
              "            style=\"display:none;\">\n",
              "\n",
              "<svg xmlns=\"http://www.w3.org/2000/svg\" height=\"24px\"viewBox=\"0 0 24 24\"\n",
              "     width=\"24px\">\n",
              "    <g>\n",
              "        <path d=\"M19 3H5c-1.1 0-2 .9-2 2v14c0 1.1.9 2 2 2h14c1.1 0 2-.9 2-2V5c0-1.1-.9-2-2-2zM9 17H7v-7h2v7zm4 0h-2V7h2v10zm4 0h-2v-4h2v4z\"/>\n",
              "    </g>\n",
              "</svg>\n",
              "  </button>\n",
              "\n",
              "<style>\n",
              "  .colab-df-quickchart {\n",
              "      --bg-color: #E8F0FE;\n",
              "      --fill-color: #1967D2;\n",
              "      --hover-bg-color: #E2EBFA;\n",
              "      --hover-fill-color: #174EA6;\n",
              "      --disabled-fill-color: #AAA;\n",
              "      --disabled-bg-color: #DDD;\n",
              "  }\n",
              "\n",
              "  [theme=dark] .colab-df-quickchart {\n",
              "      --bg-color: #3B4455;\n",
              "      --fill-color: #D2E3FC;\n",
              "      --hover-bg-color: #434B5C;\n",
              "      --hover-fill-color: #FFFFFF;\n",
              "      --disabled-bg-color: #3B4455;\n",
              "      --disabled-fill-color: #666;\n",
              "  }\n",
              "\n",
              "  .colab-df-quickchart {\n",
              "    background-color: var(--bg-color);\n",
              "    border: none;\n",
              "    border-radius: 50%;\n",
              "    cursor: pointer;\n",
              "    display: none;\n",
              "    fill: var(--fill-color);\n",
              "    height: 32px;\n",
              "    padding: 0;\n",
              "    width: 32px;\n",
              "  }\n",
              "\n",
              "  .colab-df-quickchart:hover {\n",
              "    background-color: var(--hover-bg-color);\n",
              "    box-shadow: 0 1px 2px rgba(60, 64, 67, 0.3), 0 1px 3px 1px rgba(60, 64, 67, 0.15);\n",
              "    fill: var(--button-hover-fill-color);\n",
              "  }\n",
              "\n",
              "  .colab-df-quickchart-complete:disabled,\n",
              "  .colab-df-quickchart-complete:disabled:hover {\n",
              "    background-color: var(--disabled-bg-color);\n",
              "    fill: var(--disabled-fill-color);\n",
              "    box-shadow: none;\n",
              "  }\n",
              "\n",
              "  .colab-df-spinner {\n",
              "    border: 2px solid var(--fill-color);\n",
              "    border-color: transparent;\n",
              "    border-bottom-color: var(--fill-color);\n",
              "    animation:\n",
              "      spin 1s steps(1) infinite;\n",
              "  }\n",
              "\n",
              "  @keyframes spin {\n",
              "    0% {\n",
              "      border-color: transparent;\n",
              "      border-bottom-color: var(--fill-color);\n",
              "      border-left-color: var(--fill-color);\n",
              "    }\n",
              "    20% {\n",
              "      border-color: transparent;\n",
              "      border-left-color: var(--fill-color);\n",
              "      border-top-color: var(--fill-color);\n",
              "    }\n",
              "    30% {\n",
              "      border-color: transparent;\n",
              "      border-left-color: var(--fill-color);\n",
              "      border-top-color: var(--fill-color);\n",
              "      border-right-color: var(--fill-color);\n",
              "    }\n",
              "    40% {\n",
              "      border-color: transparent;\n",
              "      border-right-color: var(--fill-color);\n",
              "      border-top-color: var(--fill-color);\n",
              "    }\n",
              "    60% {\n",
              "      border-color: transparent;\n",
              "      border-right-color: var(--fill-color);\n",
              "    }\n",
              "    80% {\n",
              "      border-color: transparent;\n",
              "      border-right-color: var(--fill-color);\n",
              "      border-bottom-color: var(--fill-color);\n",
              "    }\n",
              "    90% {\n",
              "      border-color: transparent;\n",
              "      border-bottom-color: var(--fill-color);\n",
              "    }\n",
              "  }\n",
              "</style>\n",
              "\n",
              "  <script>\n",
              "    async function quickchart(key) {\n",
              "      const quickchartButtonEl =\n",
              "        document.querySelector('#' + key + ' button');\n",
              "      quickchartButtonEl.disabled = true;  // To prevent multiple clicks.\n",
              "      quickchartButtonEl.classList.add('colab-df-spinner');\n",
              "      try {\n",
              "        const charts = await google.colab.kernel.invokeFunction(\n",
              "            'suggestCharts', [key], {});\n",
              "      } catch (error) {\n",
              "        console.error('Error during call to suggestCharts:', error);\n",
              "      }\n",
              "      quickchartButtonEl.classList.remove('colab-df-spinner');\n",
              "      quickchartButtonEl.classList.add('colab-df-quickchart-complete');\n",
              "    }\n",
              "    (() => {\n",
              "      let quickchartButtonEl =\n",
              "        document.querySelector('#df-fc22279f-5b24-4716-9568-4519aec8b6b9 button');\n",
              "      quickchartButtonEl.style.display =\n",
              "        google.colab.kernel.accessAllowed ? 'block' : 'none';\n",
              "    })();\n",
              "  </script>\n",
              "</div>\n",
              "\n",
              "    </div>\n",
              "  </div>\n"
            ],
            "application/vnd.google.colaboratory.intrinsic+json": {
              "type": "dataframe",
              "summary": "{\n  \"name\": \"cell_types_monocyte[['label', 'ontology_term_id', 'unique_cell_count']]\",\n  \"rows\": 12,\n  \"fields\": [\n    {\n      \"column\": \"label\",\n      \"properties\": {\n        \"dtype\": \"string\",\n        \"num_unique_values\": 12,\n        \"samples\": [\n          \"MHC-II-positive classical monocyte\",\n          \"CD14-positive, CD16-positive monocyte\",\n          \"granulocyte monocyte progenitor cell\"\n        ],\n        \"semantic_type\": \"\",\n        \"description\": \"\"\n      }\n    },\n    {\n      \"column\": \"ontology_term_id\",\n      \"properties\": {\n        \"dtype\": \"string\",\n        \"num_unique_values\": 12,\n        \"samples\": [\n          \"CL:0002470\",\n          \"CL:0002397\",\n          \"CL:0000557\"\n        ],\n        \"semantic_type\": \"\",\n        \"description\": \"\"\n      }\n    },\n    {\n      \"column\": \"unique_cell_count\",\n      \"properties\": {\n        \"dtype\": \"number\",\n        \"std\": 320506,\n        \"min\": 1249,\n        \"max\": 1059249,\n        \"num_unique_values\": 12,\n        \"samples\": [\n          1249,\n          20045,\n          5893\n        ],\n        \"semantic_type\": \"\",\n        \"description\": \"\"\n      }\n    }\n  ]\n}"
            }
          },
          "metadata": {},
          "execution_count": 5
        }
      ]
    },
    {
      "cell_type": "code",
      "source": [
        "# Lets examine male cells metadata (39.9M cells x 26 columns) and decide which columns do we really need.\n",
        "# In the command we name every possible metadata column, and then\n",
        "# - label it #drop# and comment out if we do not need it\n",
        "# - label it #ToDo# if we need to investigate it further\n",
        "# - label it #batch#ToDo# if this column may cause batch effects, ToDo: check if it cause significant batch effect\n",
        "# - label it #batch# if we needed this column to stratify batch effect or it is confounded with LOY\n",
        "monocyte_filter = \" or \".join([\"cell_type == '{}'\".format(label) for label in (cell_types_monocyte['label'].tolist())])\n",
        "monocyte_filter = (\n",
        "    \"sex == 'male' and is_primary_data == True and (\" +\n",
        "    monocyte_filter + \")\"\n",
        ")\n",
        "\n",
        "with cellxgene_census.open_soma(census_version=dataset_version) as census:\n",
        "    cell_metadata = cellxgene_census.get_obs(\n",
        "        census,\n",
        "        organism,\n",
        "        value_filter = monocyte_filter,\n",
        "        column_names = [\n",
        "            'soma_joinid', # after filtering we will use it to download the right cells\n",
        "            # 'sex', 'sex_ontology_term_id', # filter \"male\" to study LOY\n",
        "            # 'is_primary_data', # 56% True, filter True to look only at non-duplicate data\n",
        "            'dataset_id', #batch#ToDo# 11.3% + 4% + 3.6% + 3.1% + 2.8% + ...\n",
        "            # 'assay', 'assay_ontology_term_id', 'suspension_type', #batch#ToDo# single cell/nuclei technology\n",
        "            'cell_type_ontology_term_id', 'cell_type', #batch# later we will filter for LOY-enriched cell types\n",
        "            'development_stage_ontology_term_id', 'development_stage', #batch# age, filter >=20 years old, 7% '50-year-old human stage'\n",
        "            'disease_ontology_term_id', 'disease', #batch# 70% healthy + 11% covid\n",
        "            # 'observation_joinid', # unique observation identifier for each cell\n",
        "            'self_reported_ethnicity_ontology_term_id', # 'self_reported_ethnicity',  #batch#ToDo# 52% 'unknown', 40% 'European'\n",
        "            'tissue_ontology_term_id', 'tissue', 'tissue_type', 'tissue_general', 'tissue_general_ontology_term_id', #batch#ToDo# cell types will filter tissues automatically?\n",
        "            'raw_sum', #ToDo# Is this like Seurat's nReads?\n",
        "            'nnz', 'raw_mean_nnz', 'raw_variance_nnz', # Is nnz like Seurat's nUMIs? Mean/variance over what?\n",
        "            'n_measured_vars', # Is this like Seurat's nFeatures ?\n",
        "            'donor_id' #batch# We study LOY withing each donor, then look at inter-donor variability of DEGs\n",
        "            ]\n",
        "    )"
      ],
      "metadata": {
        "id": "6fELR-jMHyzi"
      },
      "execution_count": null,
      "outputs": []
    },
    {
      "cell_type": "code",
      "source": [
        "# cell_metadata_old = cell_metadata.copy()\n",
        "cell_metadata = cell_metadata_old.copy()"
      ],
      "metadata": {
        "id": "QRXKYmzOKi63"
      },
      "execution_count": null,
      "outputs": []
    },
    {
      "cell_type": "code",
      "source": [
        "# Only warn if missing data is actually present, print columns with missing data, and remove missing values\n",
        "missing_data = cell_metadata.isna().sum()\n",
        "missing_columns = missing_data[missing_data > 0]\n",
        "if not missing_columns.empty:\n",
        "    print(\"Warning: Missing data found in the following columns:\")\n",
        "    print(missing_columns)\n",
        "cell_metadata = cell_metadata.dropna(subset=['cell_type', 'donor_id', 'development_stage', 'disease'])"
      ],
      "metadata": {
        "id": "2WC0lUsjOMb3"
      },
      "execution_count": null,
      "outputs": []
    },
    {
      "cell_type": "code",
      "source": [
        "# Subsample 10000 random rows to avoid crashing Colab's RAM\n",
        "cell_metadata = cell_metadata.sample(n=10000, random_state=1)"
      ],
      "metadata": {
        "id": "jcsAGSdtt87A"
      },
      "execution_count": null,
      "outputs": []
    },
    {
      "cell_type": "code",
      "source": [
        "# Because we have some follow up experiments, same 'donor_id' can have different 'disease' and/or 'development_stage'\n",
        "cell_metadata['donor_follow_up'] = (\n",
        "    cell_metadata['donor_id'].astype(str) + '_' +\n",
        "    cell_metadata['disease'].astype(str) + '_' +\n",
        "    cell_metadata['development_stage'].astype(str)\n",
        ")\n",
        "\n",
        "#cell_metadata['n_disease_per_donor'] = cell_metadata.groupby(['donor_id'], observed=False)['disease'].transform('nunique')\n",
        "#cell_metadata['n_development_stage_per_donor'] = cell_metadata.groupby(['donor_id'], observed=False)['development_stage'].transform('nunique')\n",
        "#filtered_data = cell_metadata[(cell_metadata['n_disease_per_donor'] > 1) | (cell_metadata['n_development_stage_per_donor'] > 1)]\n",
        "#filtered_data = filtered_data.sort_values(by=['donor_id', 'disease', 'development_stage'])\n",
        "#print(filtered_data[['donor_id', 'development_stage', 'disease']].value_counts(sort=False))"
      ],
      "metadata": {
        "id": "ALw2E4eeKkk8"
      },
      "execution_count": null,
      "outputs": []
    },
    {
      "cell_type": "code",
      "source": [
        "# First, drop cells if the corresponding cell type has too few cells in the corresponding donor_follow_up\n",
        "cell_metadata['cell_type_size'] = cell_metadata.groupby(['cell_type', 'donor_follow_up'], observed=False)['cell_type'].transform('size')\n",
        "cell_metadata = cell_metadata[cell_metadata['cell_type_size'] >= cell_type_counts_min]\n",
        "# cell_metadata[['cell_type', 'donor_follow_up', 'cell_type_size']].sort_values(by=['cell_type', 'donor_follow_up'])"
      ],
      "metadata": {
        "collapsed": true,
        "id": "e4KsEIVBgSGj"
      },
      "execution_count": null,
      "outputs": []
    },
    {
      "cell_type": "code",
      "source": [
        "# Next, drop cells if too few donors still have the corresponding cell type\n",
        "cell_metadata['cell_type_donors'] = cell_metadata.groupby('cell_type', observed=False)['donor_follow_up'].transform('nunique')\n",
        "cell_metadata = cell_metadata[cell_metadata['cell_type_donors'] >= cell_type_donors_min]\n",
        "# cell_metadata[['cell_type', 'donor_follow_up', 'cell_type_size', 'cell_type_donors']].sort_values(by=['cell_type', 'donor_follow_up'])"
      ],
      "metadata": {
        "id": "Lp8GaVaxiP84",
        "collapsed": true
      },
      "execution_count": null,
      "outputs": []
    },
    {
      "cell_type": "code",
      "source": [
        "print( cell_metadata.value_counts(subset=['cell_type', 'donor_id', 'development_stage', 'disease']).sort_values() )"
      ],
      "metadata": {
        "colab": {
          "base_uri": "https://localhost:8080/"
        },
        "id": "QPhrqjezIPkU",
        "outputId": "39b8d29f-6f2b-4d4c-8eca-f73480ff91c2"
      },
      "execution_count": null,
      "outputs": [
        {
          "output_type": "stream",
          "name": "stdout",
          "text": [
            "cell_type                                        donor_id            development_stage         disease                    \n",
            "non-classical monocyte                           pt12                61-year-old human stage   B-cell non-Hodgkin lymphoma       5\n",
            "CD14-positive monocyte                           SG_HEL_H195         64-year-old human stage   normal                            5\n",
            "CD14-positive, CD16-negative classical monocyte  P-HC023             30-year-old human stage   normal                            5\n",
            "monocyte                                         S4ECX8ng            46-year-old human stage   normal                            5\n",
            "CD14-low, CD16-positive monocyte                 LONZA3038306        30-year-old human stage   normal                            5\n",
            "                                                                                                                              ... \n",
            "CD14-positive, CD16-negative classical monocyte  P-S085              62-year-old human stage   COVID-19                         81\n",
            "classical monocyte                               D496                sixth decade human stage  normal                           84\n",
            "monocyte                                         H06                 72-year-old human stage   normal                          119\n",
            "CD14-low, CD16-positive monocyte                 allcells:889004399  20-year-old human stage   normal                          140\n",
            "CD14-positive monocyte                           allcells:889004399  20-year-old human stage   normal                         1050\n",
            "Name: count, Length: 451, dtype: int64\n"
          ]
        }
      ]
    },
    {
      "cell_type": "code",
      "source": [
        "# print(cell_metadata.value_counts(subset=['dataset_id'], normalize=True).head(3)) #ToDo# check batch effects of contributing datasets"
      ],
      "metadata": {
        "id": "EWbvEeROJt2y"
      },
      "execution_count": null,
      "outputs": []
    },
    {
      "cell_type": "code",
      "source": [
        "print(cell_metadata.value_counts(subset=['cell_type_ontology_term_id', 'cell_type'], normalize=True).head(10)) # most abundant cell types"
      ],
      "metadata": {
        "id": "mAh_S_qjKIEK"
      },
      "execution_count": null,
      "outputs": []
    },
    {
      "cell_type": "code",
      "source": [
        "print(cell_metadata.value_counts(subset=['tissue_ontology_term_id', 'tissue', 'tissue_type', 'tissue_general', 'tissue_general_ontology_term_id'], normalize=True).head(10))"
      ],
      "metadata": {
        "id": "nLEBqKH4J1jc"
      },
      "execution_count": null,
      "outputs": []
    },
    {
      "cell_type": "code",
      "source": [
        "obs_coords_ids = cell_metadata[\"soma_joinid\"].tolist()\n",
        "with cellxgene_census.open_soma(census_version=dataset_version) as census:\n",
        "    adata = cellxgene_census.get_anndata(\n",
        "        census,\n",
        "        organism=organism,\n",
        "        measurement_name=\"RNA\",\n",
        "        obs_coords=obs_coords_ids,\n",
        "        obs_embeddings=emb_names\n",
        "    )\n",
        "\n",
        "adata"
      ],
      "metadata": {
        "colab": {
          "base_uri": "https://localhost:8080/"
        },
        "collapsed": true,
        "id": "0kUoadt9_764",
        "outputId": "9aa04df5-4341-455b-b480-95fbdf134611"
      },
      "execution_count": null,
      "outputs": [
        {
          "output_type": "execute_result",
          "data": {
            "text/plain": [
              "AnnData object with n_obs × n_vars = 8026 × 60530\n",
              "    obs: 'soma_joinid', 'dataset_id', 'assay', 'assay_ontology_term_id', 'cell_type', 'cell_type_ontology_term_id', 'development_stage', 'development_stage_ontology_term_id', 'disease', 'disease_ontology_term_id', 'donor_id', 'is_primary_data', 'observation_joinid', 'self_reported_ethnicity', 'self_reported_ethnicity_ontology_term_id', 'sex', 'sex_ontology_term_id', 'suspension_type', 'tissue', 'tissue_ontology_term_id', 'tissue_type', 'tissue_general', 'tissue_general_ontology_term_id', 'raw_sum', 'nnz', 'raw_mean_nnz', 'raw_variance_nnz', 'n_measured_vars'\n",
              "    var: 'soma_joinid', 'feature_id', 'feature_name', 'feature_length', 'nnz', 'n_measured_obs'\n",
              "    obsm: 'scvi'"
            ]
          },
          "metadata": {},
          "execution_count": 26
        }
      ]
    },
    {
      "cell_type": "code",
      "source": [
        "census.close()\n",
        "del census"
      ],
      "metadata": {
        "id": "3EWAue3C5V7l"
      },
      "execution_count": null,
      "outputs": []
    }
  ]
}